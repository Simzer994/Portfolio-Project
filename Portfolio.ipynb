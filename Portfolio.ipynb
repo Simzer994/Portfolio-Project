{
 "cells": [
  {
   "attachments": {},
   "cell_type": "markdown",
   "metadata": {},
   "source": [
    "# Librairies"
   ]
  },
  {
   "cell_type": "code",
   "execution_count": 1,
   "metadata": {},
   "outputs": [],
   "source": [
    "import project_functions as pf\n",
    "import numpy as np\n",
    "import pandas as pd\n",
    "import seaborn as sns\n",
    "sns.set_theme()\n",
    "sns.set(rc={\"figure.figsize\":(15, 6)},style=\"whitegrid\")"
   ]
  },
  {
   "attachments": {},
   "cell_type": "markdown",
   "metadata": {},
   "source": [
    "# Portfolio"
   ]
  },
  {
   "attachments": {},
   "cell_type": "markdown",
   "metadata": {},
   "source": [
    "Importons les données :"
   ]
  },
  {
   "cell_type": "code",
   "execution_count": 2,
   "metadata": {},
   "outputs": [],
   "source": [
    "# récupérons les données des prix sauvegardés dans le fichier prices.csv\n",
    "datas = pd.read_csv('datas/prices.csv', sep=',')\n",
    "\n",
    "# On récupère les tickers stockés dans le fichier tickers.txt\n",
    "tickers = pf.get_tickers('datas/tickers.txt')"
   ]
  },
  {
   "cell_type": "code",
   "execution_count": 3,
   "metadata": {},
   "outputs": [
    {
     "data": {
      "text/html": [
       "<div>\n",
       "<style scoped>\n",
       "    .dataframe tbody tr th:only-of-type {\n",
       "        vertical-align: middle;\n",
       "    }\n",
       "\n",
       "    .dataframe tbody tr th {\n",
       "        vertical-align: top;\n",
       "    }\n",
       "\n",
       "    .dataframe thead th {\n",
       "        text-align: right;\n",
       "    }\n",
       "</style>\n",
       "<table border=\"1\" class=\"dataframe\">\n",
       "  <thead>\n",
       "    <tr style=\"text-align: right;\">\n",
       "      <th></th>\n",
       "      <th>TWEKA.AS</th>\n",
       "      <th>BESI.AS</th>\n",
       "      <th>RAND.AS</th>\n",
       "      <th>AMG.AS</th>\n",
       "      <th>AD.AS</th>\n",
       "      <th>AALB.AS</th>\n",
       "      <th>VPK.AS</th>\n",
       "      <th>HEIO.AS</th>\n",
       "      <th>CRBN.AS</th>\n",
       "      <th>ARCAD.AS</th>\n",
       "      <th>REN.AS</th>\n",
       "      <th>AGN.AS</th>\n",
       "      <th>SHELL.AS</th>\n",
       "    </tr>\n",
       "    <tr>\n",
       "      <th>Date</th>\n",
       "      <th></th>\n",
       "      <th></th>\n",
       "      <th></th>\n",
       "      <th></th>\n",
       "      <th></th>\n",
       "      <th></th>\n",
       "      <th></th>\n",
       "      <th></th>\n",
       "      <th></th>\n",
       "      <th></th>\n",
       "      <th></th>\n",
       "      <th></th>\n",
       "      <th></th>\n",
       "    </tr>\n",
       "  </thead>\n",
       "  <tbody>\n",
       "    <tr>\n",
       "      <th>2010-01-04</th>\n",
       "      <td>9.511971</td>\n",
       "      <td>0.830604</td>\n",
       "      <td>20.259628</td>\n",
       "      <td>8.194963</td>\n",
       "      <td>6.128687</td>\n",
       "      <td>8.183498</td>\n",
       "      <td>20.687563</td>\n",
       "      <td>23.340855</td>\n",
       "      <td>12.707550</td>\n",
       "      <td>10.344408</td>\n",
       "      <td>3.762785</td>\n",
       "      <td>2.645846</td>\n",
       "      <td>10.527839</td>\n",
       "    </tr>\n",
       "    <tr>\n",
       "      <th>2010-01-05</th>\n",
       "      <td>9.702948</td>\n",
       "      <td>0.846276</td>\n",
       "      <td>20.558300</td>\n",
       "      <td>8.169353</td>\n",
       "      <td>6.077343</td>\n",
       "      <td>8.148955</td>\n",
       "      <td>20.774899</td>\n",
       "      <td>22.875599</td>\n",
       "      <td>12.619114</td>\n",
       "      <td>10.731913</td>\n",
       "      <td>3.721653</td>\n",
       "      <td>2.639794</td>\n",
       "      <td>10.598575</td>\n",
       "    </tr>\n",
       "    <tr>\n",
       "      <th>2010-01-06</th>\n",
       "      <td>9.746504</td>\n",
       "      <td>0.830604</td>\n",
       "      <td>20.655998</td>\n",
       "      <td>8.080161</td>\n",
       "      <td>6.111786</td>\n",
       "      <td>8.310164</td>\n",
       "      <td>20.745789</td>\n",
       "      <td>22.934246</td>\n",
       "      <td>12.772176</td>\n",
       "      <td>10.791023</td>\n",
       "      <td>3.700648</td>\n",
       "      <td>2.630441</td>\n",
       "      <td>10.522962</td>\n",
       "    </tr>\n",
       "    <tr>\n",
       "      <th>2010-01-07</th>\n",
       "      <td>9.602434</td>\n",
       "      <td>0.836873</td>\n",
       "      <td>21.258936</td>\n",
       "      <td>8.124315</td>\n",
       "      <td>5.977906</td>\n",
       "      <td>8.267944</td>\n",
       "      <td>20.967762</td>\n",
       "      <td>22.727030</td>\n",
       "      <td>12.925238</td>\n",
       "      <td>10.804158</td>\n",
       "      <td>3.646388</td>\n",
       "      <td>2.683808</td>\n",
       "      <td>10.491251</td>\n",
       "    </tr>\n",
       "    <tr>\n",
       "      <th>2010-01-08</th>\n",
       "      <td>9.629237</td>\n",
       "      <td>0.852545</td>\n",
       "      <td>21.099819</td>\n",
       "      <td>8.106654</td>\n",
       "      <td>6.039648</td>\n",
       "      <td>8.283298</td>\n",
       "      <td>20.825846</td>\n",
       "      <td>22.969433</td>\n",
       "      <td>13.340207</td>\n",
       "      <td>10.731913</td>\n",
       "      <td>3.679208</td>\n",
       "      <td>2.766887</td>\n",
       "      <td>10.430267</td>\n",
       "    </tr>\n",
       "  </tbody>\n",
       "</table>\n",
       "</div>"
      ],
      "text/plain": [
       "            TWEKA.AS   BESI.AS    RAND.AS    AMG.AS     AD.AS   AALB.AS  \\\n",
       "Date                                                                      \n",
       "2010-01-04  9.511971  0.830604  20.259628  8.194963  6.128687  8.183498   \n",
       "2010-01-05  9.702948  0.846276  20.558300  8.169353  6.077343  8.148955   \n",
       "2010-01-06  9.746504  0.830604  20.655998  8.080161  6.111786  8.310164   \n",
       "2010-01-07  9.602434  0.836873  21.258936  8.124315  5.977906  8.267944   \n",
       "2010-01-08  9.629237  0.852545  21.099819  8.106654  6.039648  8.283298   \n",
       "\n",
       "               VPK.AS    HEIO.AS    CRBN.AS   ARCAD.AS    REN.AS    AGN.AS  \\\n",
       "Date                                                                         \n",
       "2010-01-04  20.687563  23.340855  12.707550  10.344408  3.762785  2.645846   \n",
       "2010-01-05  20.774899  22.875599  12.619114  10.731913  3.721653  2.639794   \n",
       "2010-01-06  20.745789  22.934246  12.772176  10.791023  3.700648  2.630441   \n",
       "2010-01-07  20.967762  22.727030  12.925238  10.804158  3.646388  2.683808   \n",
       "2010-01-08  20.825846  22.969433  13.340207  10.731913  3.679208  2.766887   \n",
       "\n",
       "             SHELL.AS  \n",
       "Date                   \n",
       "2010-01-04  10.527839  \n",
       "2010-01-05  10.598575  \n",
       "2010-01-06  10.522962  \n",
       "2010-01-07  10.491251  \n",
       "2010-01-08  10.430267  "
      ]
     },
     "execution_count": 3,
     "metadata": {},
     "output_type": "execute_result"
    }
   ],
   "source": [
    "# Uniquement les prix liées aux tickers\n",
    "prices = datas[[\"Date\"]+tickers]\n",
    "\n",
    "# On transforme la colonne Date en index\n",
    "prices.set_index(\"Date\", inplace=True)\n",
    "prices.index = pd.to_datetime(prices.index)\n",
    "\n",
    "prices.head()"
   ]
  },
  {
   "attachments": {},
   "cell_type": "markdown",
   "metadata": {},
   "source": [
    "Calculons les returns journaliers :"
   ]
  },
  {
   "cell_type": "code",
   "execution_count": 4,
   "metadata": {},
   "outputs": [
    {
     "data": {
      "text/html": [
       "<div>\n",
       "<style scoped>\n",
       "    .dataframe tbody tr th:only-of-type {\n",
       "        vertical-align: middle;\n",
       "    }\n",
       "\n",
       "    .dataframe tbody tr th {\n",
       "        vertical-align: top;\n",
       "    }\n",
       "\n",
       "    .dataframe thead th {\n",
       "        text-align: right;\n",
       "    }\n",
       "</style>\n",
       "<table border=\"1\" class=\"dataframe\">\n",
       "  <thead>\n",
       "    <tr style=\"text-align: right;\">\n",
       "      <th></th>\n",
       "      <th>TWEKA.AS</th>\n",
       "      <th>BESI.AS</th>\n",
       "      <th>RAND.AS</th>\n",
       "      <th>AMG.AS</th>\n",
       "      <th>AD.AS</th>\n",
       "      <th>AALB.AS</th>\n",
       "      <th>VPK.AS</th>\n",
       "      <th>HEIO.AS</th>\n",
       "      <th>CRBN.AS</th>\n",
       "      <th>ARCAD.AS</th>\n",
       "      <th>REN.AS</th>\n",
       "      <th>AGN.AS</th>\n",
       "      <th>SHELL.AS</th>\n",
       "    </tr>\n",
       "    <tr>\n",
       "      <th>Date</th>\n",
       "      <th></th>\n",
       "      <th></th>\n",
       "      <th></th>\n",
       "      <th></th>\n",
       "      <th></th>\n",
       "      <th></th>\n",
       "      <th></th>\n",
       "      <th></th>\n",
       "      <th></th>\n",
       "      <th></th>\n",
       "      <th></th>\n",
       "      <th></th>\n",
       "      <th></th>\n",
       "    </tr>\n",
       "  </thead>\n",
       "  <tbody>\n",
       "    <tr>\n",
       "      <th>2010-01-05</th>\n",
       "      <td>0.020078</td>\n",
       "      <td>0.018868</td>\n",
       "      <td>0.014742</td>\n",
       "      <td>-0.003125</td>\n",
       "      <td>-0.008378</td>\n",
       "      <td>-0.004221</td>\n",
       "      <td>0.004222</td>\n",
       "      <td>-0.019933</td>\n",
       "      <td>-0.006959</td>\n",
       "      <td>0.037460</td>\n",
       "      <td>-0.010931</td>\n",
       "      <td>-0.002287</td>\n",
       "      <td>0.006719</td>\n",
       "    </tr>\n",
       "    <tr>\n",
       "      <th>2010-01-06</th>\n",
       "      <td>0.004489</td>\n",
       "      <td>-0.018518</td>\n",
       "      <td>0.004752</td>\n",
       "      <td>-0.010918</td>\n",
       "      <td>0.005668</td>\n",
       "      <td>0.019783</td>\n",
       "      <td>-0.001401</td>\n",
       "      <td>0.002564</td>\n",
       "      <td>0.012129</td>\n",
       "      <td>0.005508</td>\n",
       "      <td>-0.005644</td>\n",
       "      <td>-0.003543</td>\n",
       "      <td>-0.007134</td>\n",
       "    </tr>\n",
       "    <tr>\n",
       "      <th>2010-01-07</th>\n",
       "      <td>-0.014782</td>\n",
       "      <td>0.007547</td>\n",
       "      <td>0.029189</td>\n",
       "      <td>0.005465</td>\n",
       "      <td>-0.021905</td>\n",
       "      <td>-0.005081</td>\n",
       "      <td>0.010700</td>\n",
       "      <td>-0.009035</td>\n",
       "      <td>0.011984</td>\n",
       "      <td>0.001217</td>\n",
       "      <td>-0.014662</td>\n",
       "      <td>0.020288</td>\n",
       "      <td>-0.003013</td>\n",
       "    </tr>\n",
       "    <tr>\n",
       "      <th>2010-01-08</th>\n",
       "      <td>0.002791</td>\n",
       "      <td>0.018726</td>\n",
       "      <td>-0.007485</td>\n",
       "      <td>-0.002174</td>\n",
       "      <td>0.010328</td>\n",
       "      <td>0.001857</td>\n",
       "      <td>-0.006768</td>\n",
       "      <td>0.010666</td>\n",
       "      <td>0.032105</td>\n",
       "      <td>-0.006687</td>\n",
       "      <td>0.009001</td>\n",
       "      <td>0.030955</td>\n",
       "      <td>-0.005813</td>\n",
       "    </tr>\n",
       "    <tr>\n",
       "      <th>2010-01-11</th>\n",
       "      <td>0.026444</td>\n",
       "      <td>-0.003676</td>\n",
       "      <td>0.004498</td>\n",
       "      <td>0.020697</td>\n",
       "      <td>0.001076</td>\n",
       "      <td>0.014829</td>\n",
       "      <td>-0.008213</td>\n",
       "      <td>0.014468</td>\n",
       "      <td>-0.000765</td>\n",
       "      <td>-0.022338</td>\n",
       "      <td>-0.006898</td>\n",
       "      <td>-0.015510</td>\n",
       "      <td>0.003275</td>\n",
       "    </tr>\n",
       "  </tbody>\n",
       "</table>\n",
       "</div>"
      ],
      "text/plain": [
       "            TWEKA.AS   BESI.AS   RAND.AS    AMG.AS     AD.AS   AALB.AS  \\\n",
       "Date                                                                     \n",
       "2010-01-05  0.020078  0.018868  0.014742 -0.003125 -0.008378 -0.004221   \n",
       "2010-01-06  0.004489 -0.018518  0.004752 -0.010918  0.005668  0.019783   \n",
       "2010-01-07 -0.014782  0.007547  0.029189  0.005465 -0.021905 -0.005081   \n",
       "2010-01-08  0.002791  0.018726 -0.007485 -0.002174  0.010328  0.001857   \n",
       "2010-01-11  0.026444 -0.003676  0.004498  0.020697  0.001076  0.014829   \n",
       "\n",
       "              VPK.AS   HEIO.AS   CRBN.AS  ARCAD.AS    REN.AS    AGN.AS  \\\n",
       "Date                                                                     \n",
       "2010-01-05  0.004222 -0.019933 -0.006959  0.037460 -0.010931 -0.002287   \n",
       "2010-01-06 -0.001401  0.002564  0.012129  0.005508 -0.005644 -0.003543   \n",
       "2010-01-07  0.010700 -0.009035  0.011984  0.001217 -0.014662  0.020288   \n",
       "2010-01-08 -0.006768  0.010666  0.032105 -0.006687  0.009001  0.030955   \n",
       "2010-01-11 -0.008213  0.014468 -0.000765 -0.022338 -0.006898 -0.015510   \n",
       "\n",
       "            SHELL.AS  \n",
       "Date                  \n",
       "2010-01-05  0.006719  \n",
       "2010-01-06 -0.007134  \n",
       "2010-01-07 -0.003013  \n",
       "2010-01-08 -0.005813  \n",
       "2010-01-11  0.003275  "
      ]
     },
     "execution_count": 4,
     "metadata": {},
     "output_type": "execute_result"
    }
   ],
   "source": [
    "returns = pf.daily_asset_return(prices)\n",
    "\n",
    "returns.head()"
   ]
  },
  {
   "attachments": {},
   "cell_type": "markdown",
   "metadata": {},
   "source": [
    "Nous devons définir une période d'entrainement et de test :\n",
    "* la période d'entrainement est entre la première date disponible et le 1er Janvier 2015\n",
    "* la période de test est entre la fin de l'entrainement et la dernière date disponible "
   ]
  },
  {
   "cell_type": "code",
   "execution_count": 5,
   "metadata": {},
   "outputs": [],
   "source": [
    "begin_train = returns.index[0]\n",
    "end_train = \"2017-01-01\"\n",
    "begin_test = end_train\n",
    "end_test = returns.index[-1]"
   ]
  },
  {
   "attachments": {},
   "cell_type": "markdown",
   "metadata": {},
   "source": [
    "Il est nécessaire de séparer les données entre la phase d'entrainement et la phase de test."
   ]
  },
  {
   "cell_type": "code",
   "execution_count": 6,
   "metadata": {},
   "outputs": [],
   "source": [
    "returns_train, returns_test = pf.seperate_df(returns, begin_train, end_train, begin_test, end_test)"
   ]
  },
  {
   "attachments": {},
   "cell_type": "markdown",
   "metadata": {},
   "source": [
    "Nous pouvons déterminer les returns annualisés année grâce à la ligne de code suivante :"
   ]
  },
  {
   "cell_type": "code",
   "execution_count": 7,
   "metadata": {},
   "outputs": [],
   "source": [
    "annu_returns_train = pf.annualy_asset_return(returns_train)"
   ]
  },
  {
   "attachments": {},
   "cell_type": "markdown",
   "metadata": {},
   "source": [
    "## Mean-Variance Portfolio"
   ]
  },
  {
   "attachments": {},
   "cell_type": "markdown",
   "metadata": {},
   "source": [
    "Let's compute the covariance matrix of the returns."
   ]
  },
  {
   "cell_type": "code",
   "execution_count": 8,
   "metadata": {},
   "outputs": [],
   "source": [
    "cov_matrix_train = returns_train.cov()"
   ]
  },
  {
   "cell_type": "code",
   "execution_count": 9,
   "metadata": {},
   "outputs": [
    {
     "name": "stdout",
     "output_type": "stream",
     "text": [
      "The portfolio return is: 15.15 %\n",
      "The portfolio volatility is: 14.13 %\n"
     ]
    }
   ],
   "source": [
    "w1,r,v = pf.gmv_portfolio(returns_train,cov_matrix_train,show=True)"
   ]
  },
  {
   "cell_type": "code",
   "execution_count": 11,
   "metadata": {},
   "outputs": [
    {
     "name": "stdout",
     "output_type": "stream",
     "text": [
      "The portfolio return is: 10.0 %\n",
      "The portfolio volatility is: 3.37 %\n"
     ]
    }
   ],
   "source": [
    "w,r,vol = pf.opt_mean_variance(returns_train,cov_matrix_train,obj_rend=0.1,risk_free=0.05,show=True)"
   ]
  },
  {
   "cell_type": "code",
   "execution_count": 12,
   "metadata": {},
   "outputs": [
    {
     "data": {
      "image/png": "[encoded data removed]",
      "text/plain": [
       "<Figure size 1080x432 with 1 Axes>"
      ]
     },
     "metadata": {},
     "output_type": "display_data"
    }
   ],
   "source": [
    "# plot the efficient frontier\n",
    "eff, eff_rf = pf.efficient_frontier(returns_train,cov_matrix_train,min=0.02,max=0.7,number=20,risk_free=0.05,plot=True)"
   ]
  },
  {
   "attachments": {},
   "cell_type": "markdown",
   "metadata": {},
   "source": [
    "Calculons le return du portfolio avec les poids souhaités sur la période de test :"
   ]
  },
  {
   "cell_type": "code",
   "execution_count": 13,
   "metadata": {},
   "outputs": [
    {
     "name": "stdout",
     "output_type": "stream",
     "text": [
      "The portfolio return is: 8.52 %\n"
     ]
    }
   ],
   "source": [
    "portfolio_return_test = pf.portfolio_return(w1,returns_test,show=True)"
   ]
  },
  {
   "cell_type": "code",
   "execution_count": null,
   "metadata": {},
   "outputs": [],
   "source": []
  }
 ],
 "metadata": {
  "kernelspec": {
   "display_name": "base",
   "language": "python",
   "name": "python3"
  },
  "language_info": {
   "codemirror_mode": {
    "name": "ipython",
    "version": 3
   },
   "file_extension": ".py",
   "mimetype": "text/x-python",
   "name": "python",
   "nbconvert_exporter": "python",
   "pygments_lexer": "ipython3",
   "version": "3.8.8"
  },
  "orig_nbformat": 4,
  "vscode": {
   "interpreter": {
    "hash": "04c4a0fbbf9072cd1f31dc31c4706508385dca986472c1d0d89a175610d17b20"
   }
  }
 },
 "nbformat": 4,
 "nbformat_minor": 2
}

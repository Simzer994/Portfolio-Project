{
 "cells": [
  {
   "attachments": {},
   "cell_type": "markdown",
   "metadata": {},
   "source": [
    "# Librairies"
   ]
  },
  {
   "cell_type": "code",
   "execution_count": 22,
   "metadata": {},
   "outputs": [],
   "source": [
    "import project_functions as pf\n",
    "import numpy as np\n",
    "import pandas as pd\n",
    "import seaborn as sns\n",
    "import yfinance as yf\n",
    "sns.set_theme()\n",
    "sns.set(rc={\"figure.figsize\":(15, 6)},style=\"whitegrid\")"
   ]
  },
  {
   "attachments": {},
   "cell_type": "markdown",
   "metadata": {},
   "source": [
    "# Portfolio"
   ]
  },
  {
   "attachments": {},
   "cell_type": "markdown",
   "metadata": {},
   "source": [
    "Importons les données :"
   ]
  },
  {
   "cell_type": "code",
   "execution_count": 2,
   "metadata": {},
   "outputs": [],
   "source": [
    "# récupérons les données des prix sauvegardés dans le fichier prices.csv\n",
    "datas = pd.read_csv('datas/prices.csv', sep=',')\n",
    "\n",
    "# On récupère les tickers stockés dans le fichier tickers.txt\n",
    "tickers = pf.get_tickers('datas/tickers.txt')"
   ]
  },
  {
   "cell_type": "code",
   "execution_count": 3,
   "metadata": {},
   "outputs": [
    {
     "data": {
      "text/html": [
       "<div>\n",
       "<style scoped>\n",
       "    .dataframe tbody tr th:only-of-type {\n",
       "        vertical-align: middle;\n",
       "    }\n",
       "\n",
       "    .dataframe tbody tr th {\n",
       "        vertical-align: top;\n",
       "    }\n",
       "\n",
       "    .dataframe thead th {\n",
       "        text-align: right;\n",
       "    }\n",
       "</style>\n",
       "<table border=\"1\" class=\"dataframe\">\n",
       "  <thead>\n",
       "    <tr style=\"text-align: right;\">\n",
       "      <th></th>\n",
       "      <th>BESI.AS</th>\n",
       "      <th>ASML.AS</th>\n",
       "      <th>ASM.AS</th>\n",
       "      <th>MT.AS</th>\n",
       "      <th>REN.AS</th>\n",
       "      <th>AMG.AS</th>\n",
       "      <th>WKL.AS</th>\n",
       "      <th>SHELL.AS</th>\n",
       "      <th>RAND.AS</th>\n",
       "      <th>KPN.AS</th>\n",
       "      <th>AMUND.AS</th>\n",
       "      <th>AALB.AS</th>\n",
       "      <th>ARCAD.AS</th>\n",
       "      <th>HEIO.AS</th>\n",
       "    </tr>\n",
       "    <tr>\n",
       "      <th>Date</th>\n",
       "      <th></th>\n",
       "      <th></th>\n",
       "      <th></th>\n",
       "      <th></th>\n",
       "      <th></th>\n",
       "      <th></th>\n",
       "      <th></th>\n",
       "      <th></th>\n",
       "      <th></th>\n",
       "      <th></th>\n",
       "      <th></th>\n",
       "      <th></th>\n",
       "      <th></th>\n",
       "      <th></th>\n",
       "    </tr>\n",
       "  </thead>\n",
       "  <tbody>\n",
       "    <tr>\n",
       "      <th>2010-01-04</th>\n",
       "      <td>0.830604</td>\n",
       "      <td>27.659260</td>\n",
       "      <td>11.537248</td>\n",
       "      <td>53.427940</td>\n",
       "      <td>3.762785</td>\n",
       "      <td>8.194963</td>\n",
       "      <td>10.764404</td>\n",
       "      <td>10.527839</td>\n",
       "      <td>20.259628</td>\n",
       "      <td>3.689740</td>\n",
       "      <td>12.383609</td>\n",
       "      <td>8.183498</td>\n",
       "      <td>10.344408</td>\n",
       "      <td>23.340855</td>\n",
       "    </tr>\n",
       "    <tr>\n",
       "      <th>2010-01-05</th>\n",
       "      <td>0.846276</td>\n",
       "      <td>27.710567</td>\n",
       "      <td>11.630810</td>\n",
       "      <td>52.923683</td>\n",
       "      <td>3.721653</td>\n",
       "      <td>8.169353</td>\n",
       "      <td>10.760955</td>\n",
       "      <td>10.598575</td>\n",
       "      <td>20.558300</td>\n",
       "      <td>3.702040</td>\n",
       "      <td>12.383609</td>\n",
       "      <td>8.148955</td>\n",
       "      <td>10.731913</td>\n",
       "      <td>22.875599</td>\n",
       "    </tr>\n",
       "    <tr>\n",
       "      <th>2010-01-06</th>\n",
       "      <td>0.830604</td>\n",
       "      <td>28.007000</td>\n",
       "      <td>11.788899</td>\n",
       "      <td>52.523476</td>\n",
       "      <td>3.700648</td>\n",
       "      <td>8.080161</td>\n",
       "      <td>10.733355</td>\n",
       "      <td>10.522962</td>\n",
       "      <td>20.655998</td>\n",
       "      <td>3.705114</td>\n",
       "      <td>12.383609</td>\n",
       "      <td>8.310164</td>\n",
       "      <td>10.791023</td>\n",
       "      <td>22.934246</td>\n",
       "    </tr>\n",
       "    <tr>\n",
       "      <th>2010-01-07</th>\n",
       "      <td>0.836873</td>\n",
       "      <td>27.493944</td>\n",
       "      <td>11.511437</td>\n",
       "      <td>53.491985</td>\n",
       "      <td>3.646388</td>\n",
       "      <td>8.124315</td>\n",
       "      <td>10.726455</td>\n",
       "      <td>10.491251</td>\n",
       "      <td>21.258936</td>\n",
       "      <td>3.637470</td>\n",
       "      <td>12.383609</td>\n",
       "      <td>8.267944</td>\n",
       "      <td>10.804158</td>\n",
       "      <td>22.727030</td>\n",
       "    </tr>\n",
       "    <tr>\n",
       "      <th>2010-01-08</th>\n",
       "      <td>0.852545</td>\n",
       "      <td>26.570450</td>\n",
       "      <td>11.927629</td>\n",
       "      <td>53.868168</td>\n",
       "      <td>3.679208</td>\n",
       "      <td>8.106654</td>\n",
       "      <td>10.691954</td>\n",
       "      <td>10.430267</td>\n",
       "      <td>21.099819</td>\n",
       "      <td>3.642081</td>\n",
       "      <td>12.383609</td>\n",
       "      <td>8.283298</td>\n",
       "      <td>10.731913</td>\n",
       "      <td>22.969433</td>\n",
       "    </tr>\n",
       "  </tbody>\n",
       "</table>\n",
       "</div>"
      ],
      "text/plain": [
       "             BESI.AS    ASML.AS     ASM.AS      MT.AS    REN.AS    AMG.AS  \\\n",
       "Date                                                                        \n",
       "2010-01-04  0.830604  27.659260  11.537248  53.427940  3.762785  8.194963   \n",
       "2010-01-05  0.846276  27.710567  11.630810  52.923683  3.721653  8.169353   \n",
       "2010-01-06  0.830604  28.007000  11.788899  52.523476  3.700648  8.080161   \n",
       "2010-01-07  0.836873  27.493944  11.511437  53.491985  3.646388  8.124315   \n",
       "2010-01-08  0.852545  26.570450  11.927629  53.868168  3.679208  8.106654   \n",
       "\n",
       "               WKL.AS   SHELL.AS    RAND.AS    KPN.AS   AMUND.AS   AALB.AS  \\\n",
       "Date                                                                         \n",
       "2010-01-04  10.764404  10.527839  20.259628  3.689740  12.383609  8.183498   \n",
       "2010-01-05  10.760955  10.598575  20.558300  3.702040  12.383609  8.148955   \n",
       "2010-01-06  10.733355  10.522962  20.655998  3.705114  12.383609  8.310164   \n",
       "2010-01-07  10.726455  10.491251  21.258936  3.637470  12.383609  8.267944   \n",
       "2010-01-08  10.691954  10.430267  21.099819  3.642081  12.383609  8.283298   \n",
       "\n",
       "             ARCAD.AS    HEIO.AS  \n",
       "Date                              \n",
       "2010-01-04  10.344408  23.340855  \n",
       "2010-01-05  10.731913  22.875599  \n",
       "2010-01-06  10.791023  22.934246  \n",
       "2010-01-07  10.804158  22.727030  \n",
       "2010-01-08  10.731913  22.969433  "
      ]
     },
     "execution_count": 3,
     "metadata": {},
     "output_type": "execute_result"
    }
   ],
   "source": [
    "# Uniquement les prix liées aux tickers\n",
    "prices = datas[[\"Date\"]+tickers]\n",
    "\n",
    "# On transforme la colonne Date en index\n",
    "prices.set_index(\"Date\", inplace=True)\n",
    "prices.index = pd.to_datetime(prices.index)\n",
    "\n",
    "prices.head()"
   ]
  },
  {
   "attachments": {},
   "cell_type": "markdown",
   "metadata": {},
   "source": [
    "Calculons les returns journaliers :"
   ]
  },
  {
   "cell_type": "code",
   "execution_count": 4,
   "metadata": {},
   "outputs": [
    {
     "data": {
      "text/html": [
       "<div>\n",
       "<style scoped>\n",
       "    .dataframe tbody tr th:only-of-type {\n",
       "        vertical-align: middle;\n",
       "    }\n",
       "\n",
       "    .dataframe tbody tr th {\n",
       "        vertical-align: top;\n",
       "    }\n",
       "\n",
       "    .dataframe thead th {\n",
       "        text-align: right;\n",
       "    }\n",
       "</style>\n",
       "<table border=\"1\" class=\"dataframe\">\n",
       "  <thead>\n",
       "    <tr style=\"text-align: right;\">\n",
       "      <th></th>\n",
       "      <th>BESI.AS</th>\n",
       "      <th>ASML.AS</th>\n",
       "      <th>ASM.AS</th>\n",
       "      <th>MT.AS</th>\n",
       "      <th>REN.AS</th>\n",
       "      <th>AMG.AS</th>\n",
       "      <th>WKL.AS</th>\n",
       "      <th>SHELL.AS</th>\n",
       "      <th>RAND.AS</th>\n",
       "      <th>KPN.AS</th>\n",
       "      <th>AMUND.AS</th>\n",
       "      <th>AALB.AS</th>\n",
       "      <th>ARCAD.AS</th>\n",
       "      <th>HEIO.AS</th>\n",
       "    </tr>\n",
       "    <tr>\n",
       "      <th>Date</th>\n",
       "      <th></th>\n",
       "      <th></th>\n",
       "      <th></th>\n",
       "      <th></th>\n",
       "      <th></th>\n",
       "      <th></th>\n",
       "      <th></th>\n",
       "      <th></th>\n",
       "      <th></th>\n",
       "      <th></th>\n",
       "      <th></th>\n",
       "      <th></th>\n",
       "      <th></th>\n",
       "      <th></th>\n",
       "    </tr>\n",
       "  </thead>\n",
       "  <tbody>\n",
       "    <tr>\n",
       "      <th>2010-01-05</th>\n",
       "      <td>0.018868</td>\n",
       "      <td>0.001855</td>\n",
       "      <td>0.008110</td>\n",
       "      <td>-0.009438</td>\n",
       "      <td>-0.010931</td>\n",
       "      <td>-0.003125</td>\n",
       "      <td>-0.000320</td>\n",
       "      <td>0.006719</td>\n",
       "      <td>0.014742</td>\n",
       "      <td>0.003334</td>\n",
       "      <td>0.0</td>\n",
       "      <td>-0.004221</td>\n",
       "      <td>0.037460</td>\n",
       "      <td>-0.019933</td>\n",
       "    </tr>\n",
       "    <tr>\n",
       "      <th>2010-01-06</th>\n",
       "      <td>-0.018518</td>\n",
       "      <td>0.010697</td>\n",
       "      <td>0.013592</td>\n",
       "      <td>-0.007562</td>\n",
       "      <td>-0.005644</td>\n",
       "      <td>-0.010918</td>\n",
       "      <td>-0.002565</td>\n",
       "      <td>-0.007134</td>\n",
       "      <td>0.004752</td>\n",
       "      <td>0.000830</td>\n",
       "      <td>0.0</td>\n",
       "      <td>0.019783</td>\n",
       "      <td>0.005508</td>\n",
       "      <td>0.002564</td>\n",
       "    </tr>\n",
       "    <tr>\n",
       "      <th>2010-01-07</th>\n",
       "      <td>0.007547</td>\n",
       "      <td>-0.018319</td>\n",
       "      <td>-0.023536</td>\n",
       "      <td>0.018440</td>\n",
       "      <td>-0.014662</td>\n",
       "      <td>0.005465</td>\n",
       "      <td>-0.000643</td>\n",
       "      <td>-0.003013</td>\n",
       "      <td>0.029189</td>\n",
       "      <td>-0.018257</td>\n",
       "      <td>0.0</td>\n",
       "      <td>-0.005081</td>\n",
       "      <td>0.001217</td>\n",
       "      <td>-0.009035</td>\n",
       "    </tr>\n",
       "    <tr>\n",
       "      <th>2010-01-08</th>\n",
       "      <td>0.018726</td>\n",
       "      <td>-0.033589</td>\n",
       "      <td>0.036155</td>\n",
       "      <td>0.007033</td>\n",
       "      <td>0.009001</td>\n",
       "      <td>-0.002174</td>\n",
       "      <td>-0.003216</td>\n",
       "      <td>-0.005813</td>\n",
       "      <td>-0.007485</td>\n",
       "      <td>0.001268</td>\n",
       "      <td>0.0</td>\n",
       "      <td>0.001857</td>\n",
       "      <td>-0.006687</td>\n",
       "      <td>0.010666</td>\n",
       "    </tr>\n",
       "    <tr>\n",
       "      <th>2010-01-11</th>\n",
       "      <td>-0.003676</td>\n",
       "      <td>-0.037546</td>\n",
       "      <td>-0.029213</td>\n",
       "      <td>-0.015156</td>\n",
       "      <td>-0.006898</td>\n",
       "      <td>0.020697</td>\n",
       "      <td>-0.008067</td>\n",
       "      <td>0.003275</td>\n",
       "      <td>0.004498</td>\n",
       "      <td>0.010131</td>\n",
       "      <td>0.0</td>\n",
       "      <td>0.014829</td>\n",
       "      <td>-0.022338</td>\n",
       "      <td>0.014468</td>\n",
       "    </tr>\n",
       "  </tbody>\n",
       "</table>\n",
       "</div>"
      ],
      "text/plain": [
       "             BESI.AS   ASML.AS    ASM.AS     MT.AS    REN.AS    AMG.AS  \\\n",
       "Date                                                                     \n",
       "2010-01-05  0.018868  0.001855  0.008110 -0.009438 -0.010931 -0.003125   \n",
       "2010-01-06 -0.018518  0.010697  0.013592 -0.007562 -0.005644 -0.010918   \n",
       "2010-01-07  0.007547 -0.018319 -0.023536  0.018440 -0.014662  0.005465   \n",
       "2010-01-08  0.018726 -0.033589  0.036155  0.007033  0.009001 -0.002174   \n",
       "2010-01-11 -0.003676 -0.037546 -0.029213 -0.015156 -0.006898  0.020697   \n",
       "\n",
       "              WKL.AS  SHELL.AS   RAND.AS    KPN.AS  AMUND.AS   AALB.AS  \\\n",
       "Date                                                                     \n",
       "2010-01-05 -0.000320  0.006719  0.014742  0.003334       0.0 -0.004221   \n",
       "2010-01-06 -0.002565 -0.007134  0.004752  0.000830       0.0  0.019783   \n",
       "2010-01-07 -0.000643 -0.003013  0.029189 -0.018257       0.0 -0.005081   \n",
       "2010-01-08 -0.003216 -0.005813 -0.007485  0.001268       0.0  0.001857   \n",
       "2010-01-11 -0.008067  0.003275  0.004498  0.010131       0.0  0.014829   \n",
       "\n",
       "            ARCAD.AS   HEIO.AS  \n",
       "Date                            \n",
       "2010-01-05  0.037460 -0.019933  \n",
       "2010-01-06  0.005508  0.002564  \n",
       "2010-01-07  0.001217 -0.009035  \n",
       "2010-01-08 -0.006687  0.010666  \n",
       "2010-01-11 -0.022338  0.014468  "
      ]
     },
     "execution_count": 4,
     "metadata": {},
     "output_type": "execute_result"
    }
   ],
   "source": [
    "returns = pf.daily_asset_return(prices)\n",
    "\n",
    "returns.head()"
   ]
  },
  {
   "attachments": {},
   "cell_type": "markdown",
   "metadata": {},
   "source": [
    "Nous devons définir une période d'entrainement et de test :\n",
    "* la période d'entrainement est entre la première date disponible et le 1er Janvier 2015\n",
    "* la période de test est entre la fin de l'entrainement et la dernière date disponible "
   ]
  },
  {
   "cell_type": "code",
   "execution_count": 5,
   "metadata": {},
   "outputs": [],
   "source": [
    "begin_train = returns.index[0]\n",
    "end_train = \"2017-01-01\"\n",
    "begin_test = end_train\n",
    "end_test = returns.index[-1]"
   ]
  },
  {
   "attachments": {},
   "cell_type": "markdown",
   "metadata": {},
   "source": [
    "Il est nécessaire de séparer les données entre la phase d'entrainement et la phase de test."
   ]
  },
  {
   "cell_type": "code",
   "execution_count": 6,
   "metadata": {},
   "outputs": [],
   "source": [
    "returns_train, returns_test = pf.seperate_df(returns, begin_train, end_train, begin_test, end_test)"
   ]
  },
  {
   "attachments": {},
   "cell_type": "markdown",
   "metadata": {},
   "source": [
    "Nous pouvons déterminer les returns annualisés année grâce à la ligne de code suivante :"
   ]
  },
  {
   "cell_type": "code",
   "execution_count": 7,
   "metadata": {},
   "outputs": [],
   "source": [
    "annu_returns_train = pf.annualy_asset_return(returns_train)"
   ]
  },
  {
   "attachments": {},
   "cell_type": "markdown",
   "metadata": {},
   "source": [
    "## Mean-Variance Portfolio"
   ]
  },
  {
   "attachments": {},
   "cell_type": "markdown",
   "metadata": {},
   "source": [
    "Let's compute the covariance matrix of the returns."
   ]
  },
  {
   "cell_type": "code",
   "execution_count": 8,
   "metadata": {},
   "outputs": [],
   "source": [
    "cov_matrix_train = returns_train.cov()"
   ]
  },
  {
   "cell_type": "code",
   "execution_count": 9,
   "metadata": {},
   "outputs": [
    {
     "name": "stdout",
     "output_type": "stream",
     "text": [
      "The portfolio return is: 15.22 %\n",
      "The portfolio volatility is: 14.71 %\n"
     ]
    }
   ],
   "source": [
    "w1,r,v = pf.gmv_portfolio(returns_train,cov_matrix_train,show=True)"
   ]
  },
  {
   "cell_type": "code",
   "execution_count": 10,
   "metadata": {},
   "outputs": [
    {
     "name": "stdout",
     "output_type": "stream",
     "text": [
      "The portfolio return is: 10.0 %\n",
      "The portfolio volatility is: 4.07 %\n"
     ]
    }
   ],
   "source": [
    "w,r,vol = pf.opt_mean_variance(returns_train,cov_matrix_train,obj_rend=0.1,risk_free=0.02624,show=True)"
   ]
  },
  {
   "cell_type": "code",
   "execution_count": 11,
   "metadata": {},
   "outputs": [
    {
     "name": "stderr",
     "output_type": "stream",
     "text": [
      "/Users/simonevanno/Desktop/centrale marseille/cours/3A/TEMPS2/Gestion Portefeuille/Portfolio-Project/project_functions.py:50: RuntimeWarning: invalid value encountered in double_scalars\n",
      "  return (df+1).prod()**(business_days/df.shape[0])-1\n",
      "/Users/simonevanno/Desktop/centrale marseille/cours/3A/TEMPS2/Gestion Portefeuille/Portfolio-Project/project_functions.py:50: RuntimeWarning: invalid value encountered in double_scalars\n",
      "  return (df+1).prod()**(business_days/df.shape[0])-1\n",
      "/Users/simonevanno/Desktop/centrale marseille/cours/3A/TEMPS2/Gestion Portefeuille/Portfolio-Project/project_functions.py:50: RuntimeWarning: invalid value encountered in double_scalars\n",
      "  return (df+1).prod()**(business_days/df.shape[0])-1\n",
      "/Users/simonevanno/Desktop/centrale marseille/cours/3A/TEMPS2/Gestion Portefeuille/Portfolio-Project/project_functions.py:50: RuntimeWarning: invalid value encountered in double_scalars\n",
      "  return (df+1).prod()**(business_days/df.shape[0])-1\n",
      "/Users/simonevanno/Desktop/centrale marseille/cours/3A/TEMPS2/Gestion Portefeuille/Portfolio-Project/project_functions.py:50: RuntimeWarning: invalid value encountered in double_scalars\n",
      "  return (df+1).prod()**(business_days/df.shape[0])-1\n",
      "/Users/simonevanno/Desktop/centrale marseille/cours/3A/TEMPS2/Gestion Portefeuille/Portfolio-Project/project_functions.py:50: RuntimeWarning: invalid value encountered in double_scalars\n",
      "  return (df+1).prod()**(business_days/df.shape[0])-1\n",
      "/Users/simonevanno/Desktop/centrale marseille/cours/3A/TEMPS2/Gestion Portefeuille/Portfolio-Project/project_functions.py:50: RuntimeWarning: invalid value encountered in double_scalars\n",
      "  return (df+1).prod()**(business_days/df.shape[0])-1\n",
      "/Users/simonevanno/Desktop/centrale marseille/cours/3A/TEMPS2/Gestion Portefeuille/Portfolio-Project/project_functions.py:50: RuntimeWarning: invalid value encountered in double_scalars\n",
      "  return (df+1).prod()**(business_days/df.shape[0])-1\n",
      "/Users/simonevanno/Desktop/centrale marseille/cours/3A/TEMPS2/Gestion Portefeuille/Portfolio-Project/project_functions.py:50: RuntimeWarning: invalid value encountered in double_scalars\n",
      "  return (df+1).prod()**(business_days/df.shape[0])-1\n"
     ]
    },
    {
     "data": {
      "image/png": "[encoded data removed]",
      "text/plain": [
       "<Figure size 1080x432 with 1 Axes>"
      ]
     },
     "metadata": {},
     "output_type": "display_data"
    }
   ],
   "source": [
    "# plot the efficient frontier\n",
    "eff, eff_rf = pf.efficient_frontier(returns_train,cov_matrix_train,min=0.02,max=0.7,number=20,risk_free=0.02624,plot=True)"
   ]
  },
  {
   "attachments": {},
   "cell_type": "markdown",
   "metadata": {},
   "source": [
    "Calculons le return du portfolio avec les poids souhaités sur la période de test :"
   ]
  },
  {
   "cell_type": "code",
   "execution_count": 12,
   "metadata": {},
   "outputs": [
    {
     "data": {
      "image/png": "[encoded data removed]",
      "text/plain": [
       "<Figure size 1080x504 with 1 Axes>"
      ]
     },
     "metadata": {},
     "output_type": "display_data"
    }
   ],
   "source": [
    "w_risk_free = w.copy()\n",
    "pf.plot_returns(returns_test,w_risk_free,risk_free=0.02624)"
   ]
  },
  {
   "attachments": {},
   "cell_type": "markdown",
   "metadata": {},
   "source": [
    "Calculons le rendement de notre portefeuille :"
   ]
  },
  {
   "cell_type": "code",
   "execution_count": 13,
   "metadata": {},
   "outputs": [
    {
     "name": "stdout",
     "output_type": "stream",
     "text": [
      "The portfolio return is: 5.58 %\n"
     ]
    },
    {
     "data": {
      "text/plain": [
       "0.055768181442121804"
      ]
     },
     "execution_count": 13,
     "metadata": {},
     "output_type": "execute_result"
    }
   ],
   "source": [
    "w_risk_free_return = w.copy()\n",
    "pf.portfolio_return(w_risk_free_return,returns_test,show=True,risk_free=0.02624)"
   ]
  },
  {
   "attachments": {},
   "cell_type": "markdown",
   "metadata": {},
   "source": [
    "Calculons la volatilité de notre portefeuille :"
   ]
  },
  {
   "cell_type": "code",
   "execution_count": 14,
   "metadata": {},
   "outputs": [
    {
     "name": "stdout",
     "output_type": "stream",
     "text": [
      "The portfolio volatility is: 4.66 %\n"
     ]
    },
    {
     "data": {
      "text/plain": [
       "0.04662339999406138"
      ]
     },
     "execution_count": 14,
     "metadata": {},
     "output_type": "execute_result"
    }
   ],
   "source": [
    "w_risk_free_vol = w.copy()\n",
    "del w_risk_free_vol['Risk Free']\n",
    "w_risk_free_vol = pd.Series(w_risk_free_vol)\n",
    "cov_matrix_test = returns_test.cov()\n",
    "pf.portfolio_vol(w_risk_free_vol,cov_matrix_test,show=True)"
   ]
  },
  {
   "attachments": {},
   "cell_type": "markdown",
   "metadata": {},
   "source": [
    "Let's compare with the AEX index :"
   ]
  },
  {
   "cell_type": "code",
   "execution_count": 44,
   "metadata": {},
   "outputs": [],
   "source": [
    "# On récupère les données de l'indice AEX\n",
    "aex_data = pd.read_csv('datas/AEX-INDEX.csv', sep=',')\n",
    "\n",
    "# On transforme la colonne time en index\n",
    "aex_data.set_index(\"time\", inplace=True)\n",
    "\n",
    "# on supprime les colonnes inutiles\n",
    "aex_data.drop(['volume'], axis=1, inplace=True)\n",
    "\n",
    "# On change le format des dates\n",
    "aex_data.index = pd.to_datetime(aex_data.index)"
   ]
  },
  {
   "attachments": {},
   "cell_type": "markdown",
   "metadata": {},
   "source": [
    "On calcul les returns"
   ]
  },
  {
   "cell_type": "code",
   "execution_count": 50,
   "metadata": {},
   "outputs": [
    {
     "data": {
      "text/html": [
       "<div>\n",
       "<style scoped>\n",
       "    .dataframe tbody tr th:only-of-type {\n",
       "        vertical-align: middle;\n",
       "    }\n",
       "\n",
       "    .dataframe tbody tr th {\n",
       "        vertical-align: top;\n",
       "    }\n",
       "\n",
       "    .dataframe thead th {\n",
       "        text-align: right;\n",
       "    }\n",
       "</style>\n",
       "<table border=\"1\" class=\"dataframe\">\n",
       "  <thead>\n",
       "    <tr style=\"text-align: right;\">\n",
       "      <th></th>\n",
       "      <th>AEX-INDEX</th>\n",
       "    </tr>\n",
       "    <tr>\n",
       "      <th>time</th>\n",
       "      <th></th>\n",
       "    </tr>\n",
       "  </thead>\n",
       "  <tbody>\n",
       "    <tr>\n",
       "      <th>1999-01-05</th>\n",
       "      <td>0.013525</td>\n",
       "    </tr>\n",
       "    <tr>\n",
       "      <th>1999-01-06</th>\n",
       "      <td>0.030273</td>\n",
       "    </tr>\n",
       "    <tr>\n",
       "      <th>1999-01-07</th>\n",
       "      <td>-0.038687</td>\n",
       "    </tr>\n",
       "    <tr>\n",
       "      <th>1999-01-08</th>\n",
       "      <td>-0.003226</td>\n",
       "    </tr>\n",
       "    <tr>\n",
       "      <th>1999-01-11</th>\n",
       "      <td>-0.024139</td>\n",
       "    </tr>\n",
       "  </tbody>\n",
       "</table>\n",
       "</div>"
      ],
      "text/plain": [
       "            AEX-INDEX\n",
       "time                 \n",
       "1999-01-05   0.013525\n",
       "1999-01-06   0.030273\n",
       "1999-01-07  -0.038687\n",
       "1999-01-08  -0.003226\n",
       "1999-01-11  -0.024139"
      ]
     },
     "execution_count": 50,
     "metadata": {},
     "output_type": "execute_result"
    }
   ],
   "source": [
    "aex_returns = pf.daily_asset_return(aex_data)\n",
    "aex_returns.head()"
   ]
  },
  {
   "attachments": {},
   "cell_type": "markdown",
   "metadata": {},
   "source": [
    "Phases de test en d'entrainement"
   ]
  },
  {
   "cell_type": "code",
   "execution_count": 48,
   "metadata": {},
   "outputs": [],
   "source": [
    "begin_train = returns.index[0]\n",
    "end_train = \"2017-01-01\"\n",
    "begin_test = end_train\n",
    "end_test = returns.index[-1]"
   ]
  },
  {
   "cell_type": "code",
   "execution_count": 49,
   "metadata": {},
   "outputs": [],
   "source": [
    "aex_train, aex_test = pf.seperate_df(aex_returns, begin_train, end_train, begin_test, end_test)"
   ]
  },
  {
   "attachments": {},
   "cell_type": "markdown",
   "metadata": {},
   "source": [
    "Calcul du return"
   ]
  },
  {
   "cell_type": "code",
   "execution_count": 53,
   "metadata": {},
   "outputs": [
    {
     "name": "stdout",
     "output_type": "stream",
     "text": [
      "The portfolio return is: 6.5 %\n"
     ]
    },
    {
     "data": {
      "text/plain": [
       "0.06498472842044323"
      ]
     },
     "execution_count": 53,
     "metadata": {},
     "output_type": "execute_result"
    }
   ],
   "source": [
    "w_aex = pd.Series({'AEX-INDEX':1})\n",
    "pf.portfolio_return(w_aex,aex_test,show=True)"
   ]
  },
  {
   "attachments": {},
   "cell_type": "markdown",
   "metadata": {},
   "source": [
    "Calcul de la volatilité"
   ]
  },
  {
   "cell_type": "code",
   "execution_count": 55,
   "metadata": {},
   "outputs": [
    {
     "name": "stdout",
     "output_type": "stream",
     "text": [
      "The portfolio volatility is: 17.62 %\n"
     ]
    },
    {
     "data": {
      "text/plain": [
       "0.17618834942390008"
      ]
     },
     "execution_count": 55,
     "metadata": {},
     "output_type": "execute_result"
    }
   ],
   "source": [
    "cov_aex = aex_test.cov()\n",
    "pf.portfolio_vol(w_aex,cov_aex,show=True)"
   ]
  },
  {
   "cell_type": "code",
   "execution_count": null,
   "metadata": {},
   "outputs": [],
   "source": []
  }
 ],
 "metadata": {
  "kernelspec": {
   "display_name": "base",
   "language": "python",
   "name": "python3"
  },
  "language_info": {
   "codemirror_mode": {
    "name": "ipython",
    "version": 3
   },
   "file_extension": ".py",
   "mimetype": "text/x-python",
   "name": "python",
   "nbconvert_exporter": "python",
   "pygments_lexer": "ipython3",
   "version": "3.8.8 (default, Apr 13 2021, 12:59:45) \n[Clang 10.0.0 ]"
  },
  "orig_nbformat": 4,
  "vscode": {
   "interpreter": {
    "hash": "04c4a0fbbf9072cd1f31dc31c4706508385dca986472c1d0d89a175610d17b20"
   }
  }
 },
 "nbformat": 4,
 "nbformat_minor": 2
}

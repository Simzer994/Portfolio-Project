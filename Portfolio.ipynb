{
 "cells": [
  {
   "attachments": {},
   "cell_type": "markdown",
   "metadata": {},
   "source": [
    "# Librairies"
   ]
  },
  {
   "cell_type": "code",
   "execution_count": 1,
   "metadata": {},
   "outputs": [],
   "source": [
    "import project_functions as pf\n",
    "import numpy as np\n",
    "import pandas as pd\n",
    "import seaborn as sns\n",
    "sns.set_theme()\n",
    "sns.set(rc={\"figure.figsize\":(15, 6)},style=\"whitegrid\")"
   ]
  },
  {
   "attachments": {},
   "cell_type": "markdown",
   "metadata": {},
   "source": [
    "# Portfolio"
   ]
  },
  {
   "attachments": {},
   "cell_type": "markdown",
   "metadata": {},
   "source": [
    "Importons les données :"
   ]
  },
  {
   "cell_type": "code",
   "execution_count": 2,
   "metadata": {},
   "outputs": [],
   "source": [
    "# récupérons les données des prix sauvegardés dans le fichier prices.csv\n",
    "datas = pd.read_csv('datas/prices.csv', sep=',')\n",
    "\n",
    "# On récupère les tickers stockés dans le fichier tickers.txt\n",
    "tickers = pf.get_tickers('datas/tickers.txt')"
   ]
  },
  {
   "cell_type": "code",
   "execution_count": 3,
   "metadata": {},
   "outputs": [
    {
     "data": {
      "text/html": [
       "<div>\n",
       "<style scoped>\n",
       "    .dataframe tbody tr th:only-of-type {\n",
       "        vertical-align: middle;\n",
       "    }\n",
       "\n",
       "    .dataframe tbody tr th {\n",
       "        vertical-align: top;\n",
       "    }\n",
       "\n",
       "    .dataframe thead th {\n",
       "        text-align: right;\n",
       "    }\n",
       "</style>\n",
       "<table border=\"1\" class=\"dataframe\">\n",
       "  <thead>\n",
       "    <tr style=\"text-align: right;\">\n",
       "      <th></th>\n",
       "      <th>WHA.AS</th>\n",
       "      <th>INGA.AS</th>\n",
       "      <th>URW.AS</th>\n",
       "      <th>DSM.AS</th>\n",
       "      <th>SHELL.AS</th>\n",
       "      <th>AMUND.AS</th>\n",
       "      <th>ARCAD.AS</th>\n",
       "      <th>FUR.AS</th>\n",
       "      <th>MT.AS</th>\n",
       "      <th>PHIA.AS</th>\n",
       "      <th>ROOD.AS</th>\n",
       "      <th>AGN.AS</th>\n",
       "      <th>EAS2P.AS</th>\n",
       "      <th>CTAC.AS</th>\n",
       "      <th>IEX.AS</th>\n",
       "      <th>VALUE.AS</th>\n",
       "      <th>PORF.AS</th>\n",
       "      <th>VTA.AS</th>\n",
       "      <th>SBMO.AS</th>\n",
       "      <th>TOM2.AS</th>\n",
       "    </tr>\n",
       "    <tr>\n",
       "      <th>Date</th>\n",
       "      <th></th>\n",
       "      <th></th>\n",
       "      <th></th>\n",
       "      <th></th>\n",
       "      <th></th>\n",
       "      <th></th>\n",
       "      <th></th>\n",
       "      <th></th>\n",
       "      <th></th>\n",
       "      <th></th>\n",
       "      <th></th>\n",
       "      <th></th>\n",
       "      <th></th>\n",
       "      <th></th>\n",
       "      <th></th>\n",
       "      <th></th>\n",
       "      <th></th>\n",
       "      <th></th>\n",
       "      <th></th>\n",
       "      <th></th>\n",
       "    </tr>\n",
       "  </thead>\n",
       "  <tbody>\n",
       "    <tr>\n",
       "      <th>2010-01-04</th>\n",
       "      <td>21.835215</td>\n",
       "      <td>4.536896</td>\n",
       "      <td>68.601768</td>\n",
       "      <td>24.921452</td>\n",
       "      <td>10.527839</td>\n",
       "      <td>12.383609</td>\n",
       "      <td>10.344408</td>\n",
       "      <td>52.987740</td>\n",
       "      <td>53.427940</td>\n",
       "      <td>13.832665</td>\n",
       "      <td>0.190</td>\n",
       "      <td>2.645846</td>\n",
       "      <td>0.083711</td>\n",
       "      <td>1.933170</td>\n",
       "      <td>1.477062</td>\n",
       "      <td>3.624460</td>\n",
       "      <td>9.530450</td>\n",
       "      <td>0.684595</td>\n",
       "      <td>10.353129</td>\n",
       "      <td>6.600390</td>\n",
       "    </tr>\n",
       "    <tr>\n",
       "      <th>2010-01-05</th>\n",
       "      <td>22.011976</td>\n",
       "      <td>4.624887</td>\n",
       "      <td>68.513435</td>\n",
       "      <td>24.755232</td>\n",
       "      <td>10.598575</td>\n",
       "      <td>12.383609</td>\n",
       "      <td>10.731913</td>\n",
       "      <td>54.247974</td>\n",
       "      <td>52.923683</td>\n",
       "      <td>13.803706</td>\n",
       "      <td>0.180</td>\n",
       "      <td>2.639794</td>\n",
       "      <td>0.086683</td>\n",
       "      <td>1.853393</td>\n",
       "      <td>1.563948</td>\n",
       "      <td>3.983886</td>\n",
       "      <td>9.511352</td>\n",
       "      <td>0.441419</td>\n",
       "      <td>10.498744</td>\n",
       "      <td>6.921458</td>\n",
       "    </tr>\n",
       "    <tr>\n",
       "      <th>2010-01-06</th>\n",
       "      <td>21.822359</td>\n",
       "      <td>4.632377</td>\n",
       "      <td>69.109772</td>\n",
       "      <td>24.801203</td>\n",
       "      <td>10.522962</td>\n",
       "      <td>12.383609</td>\n",
       "      <td>10.791023</td>\n",
       "      <td>55.482346</td>\n",
       "      <td>52.523476</td>\n",
       "      <td>13.591340</td>\n",
       "      <td>0.188</td>\n",
       "      <td>2.630441</td>\n",
       "      <td>0.086683</td>\n",
       "      <td>1.853393</td>\n",
       "      <td>1.448100</td>\n",
       "      <td>4.757104</td>\n",
       "      <td>10.409009</td>\n",
       "      <td>0.417630</td>\n",
       "      <td>10.655277</td>\n",
       "      <td>6.905454</td>\n",
       "    </tr>\n",
       "    <tr>\n",
       "      <th>2010-01-07</th>\n",
       "      <td>21.565245</td>\n",
       "      <td>4.742836</td>\n",
       "      <td>68.380905</td>\n",
       "      <td>24.567801</td>\n",
       "      <td>10.491251</td>\n",
       "      <td>12.383609</td>\n",
       "      <td>10.804158</td>\n",
       "      <td>56.723167</td>\n",
       "      <td>53.491985</td>\n",
       "      <td>13.514114</td>\n",
       "      <td>0.184</td>\n",
       "      <td>2.683808</td>\n",
       "      <td>0.086683</td>\n",
       "      <td>1.837277</td>\n",
       "      <td>1.448100</td>\n",
       "      <td>5.134652</td>\n",
       "      <td>10.409009</td>\n",
       "      <td>0.420273</td>\n",
       "      <td>10.604313</td>\n",
       "      <td>7.026479</td>\n",
       "    </tr>\n",
       "    <tr>\n",
       "      <th>2010-01-08</th>\n",
       "      <td>21.533104</td>\n",
       "      <td>4.848926</td>\n",
       "      <td>68.402977</td>\n",
       "      <td>24.705727</td>\n",
       "      <td>10.430267</td>\n",
       "      <td>12.383609</td>\n",
       "      <td>10.731913</td>\n",
       "      <td>56.929981</td>\n",
       "      <td>53.868168</td>\n",
       "      <td>13.533423</td>\n",
       "      <td>0.186</td>\n",
       "      <td>2.766887</td>\n",
       "      <td>0.086089</td>\n",
       "      <td>1.829219</td>\n",
       "      <td>1.439411</td>\n",
       "      <td>5.436690</td>\n",
       "      <td>10.409009</td>\n",
       "      <td>0.422916</td>\n",
       "      <td>10.728085</td>\n",
       "      <td>7.065488</td>\n",
       "    </tr>\n",
       "  </tbody>\n",
       "</table>\n",
       "</div>"
      ],
      "text/plain": [
       "               WHA.AS   INGA.AS     URW.AS     DSM.AS   SHELL.AS   AMUND.AS  \\\n",
       "Date                                                                          \n",
       "2010-01-04  21.835215  4.536896  68.601768  24.921452  10.527839  12.383609   \n",
       "2010-01-05  22.011976  4.624887  68.513435  24.755232  10.598575  12.383609   \n",
       "2010-01-06  21.822359  4.632377  69.109772  24.801203  10.522962  12.383609   \n",
       "2010-01-07  21.565245  4.742836  68.380905  24.567801  10.491251  12.383609   \n",
       "2010-01-08  21.533104  4.848926  68.402977  24.705727  10.430267  12.383609   \n",
       "\n",
       "             ARCAD.AS     FUR.AS      MT.AS    PHIA.AS  ROOD.AS    AGN.AS  \\\n",
       "Date                                                                        \n",
       "2010-01-04  10.344408  52.987740  53.427940  13.832665    0.190  2.645846   \n",
       "2010-01-05  10.731913  54.247974  52.923683  13.803706    0.180  2.639794   \n",
       "2010-01-06  10.791023  55.482346  52.523476  13.591340    0.188  2.630441   \n",
       "2010-01-07  10.804158  56.723167  53.491985  13.514114    0.184  2.683808   \n",
       "2010-01-08  10.731913  56.929981  53.868168  13.533423    0.186  2.766887   \n",
       "\n",
       "            EAS2P.AS   CTAC.AS    IEX.AS  VALUE.AS    PORF.AS    VTA.AS  \\\n",
       "Date                                                                      \n",
       "2010-01-04  0.083711  1.933170  1.477062  3.624460   9.530450  0.684595   \n",
       "2010-01-05  0.086683  1.853393  1.563948  3.983886   9.511352  0.441419   \n",
       "2010-01-06  0.086683  1.853393  1.448100  4.757104  10.409009  0.417630   \n",
       "2010-01-07  0.086683  1.837277  1.448100  5.134652  10.409009  0.420273   \n",
       "2010-01-08  0.086089  1.829219  1.439411  5.436690  10.409009  0.422916   \n",
       "\n",
       "              SBMO.AS   TOM2.AS  \n",
       "Date                             \n",
       "2010-01-04  10.353129  6.600390  \n",
       "2010-01-05  10.498744  6.921458  \n",
       "2010-01-06  10.655277  6.905454  \n",
       "2010-01-07  10.604313  7.026479  \n",
       "2010-01-08  10.728085  7.065488  "
      ]
     },
     "execution_count": 3,
     "metadata": {},
     "output_type": "execute_result"
    }
   ],
   "source": [
    "# Uniquement les prix liées aux tickers\n",
    "prices = datas[[\"Date\"]+tickers]\n",
    "\n",
    "# On transforme la colonne Date en index\n",
    "prices.set_index(\"Date\", inplace=True)\n",
    "prices.index = pd.to_datetime(prices.index)\n",
    "\n",
    "prices.head()"
   ]
  },
  {
   "attachments": {},
   "cell_type": "markdown",
   "metadata": {},
   "source": [
    "Calculons les returns journaliers :"
   ]
  },
  {
   "cell_type": "code",
   "execution_count": 4,
   "metadata": {},
   "outputs": [
    {
     "data": {
      "text/html": [
       "<div>\n",
       "<style scoped>\n",
       "    .dataframe tbody tr th:only-of-type {\n",
       "        vertical-align: middle;\n",
       "    }\n",
       "\n",
       "    .dataframe tbody tr th {\n",
       "        vertical-align: top;\n",
       "    }\n",
       "\n",
       "    .dataframe thead th {\n",
       "        text-align: right;\n",
       "    }\n",
       "</style>\n",
       "<table border=\"1\" class=\"dataframe\">\n",
       "  <thead>\n",
       "    <tr style=\"text-align: right;\">\n",
       "      <th></th>\n",
       "      <th>WHA.AS</th>\n",
       "      <th>INGA.AS</th>\n",
       "      <th>URW.AS</th>\n",
       "      <th>DSM.AS</th>\n",
       "      <th>SHELL.AS</th>\n",
       "      <th>AMUND.AS</th>\n",
       "      <th>ARCAD.AS</th>\n",
       "      <th>FUR.AS</th>\n",
       "      <th>MT.AS</th>\n",
       "      <th>PHIA.AS</th>\n",
       "      <th>ROOD.AS</th>\n",
       "      <th>AGN.AS</th>\n",
       "      <th>EAS2P.AS</th>\n",
       "      <th>CTAC.AS</th>\n",
       "      <th>IEX.AS</th>\n",
       "      <th>VALUE.AS</th>\n",
       "      <th>PORF.AS</th>\n",
       "      <th>VTA.AS</th>\n",
       "      <th>SBMO.AS</th>\n",
       "      <th>TOM2.AS</th>\n",
       "    </tr>\n",
       "    <tr>\n",
       "      <th>Date</th>\n",
       "      <th></th>\n",
       "      <th></th>\n",
       "      <th></th>\n",
       "      <th></th>\n",
       "      <th></th>\n",
       "      <th></th>\n",
       "      <th></th>\n",
       "      <th></th>\n",
       "      <th></th>\n",
       "      <th></th>\n",
       "      <th></th>\n",
       "      <th></th>\n",
       "      <th></th>\n",
       "      <th></th>\n",
       "      <th></th>\n",
       "      <th></th>\n",
       "      <th></th>\n",
       "      <th></th>\n",
       "      <th></th>\n",
       "      <th></th>\n",
       "    </tr>\n",
       "  </thead>\n",
       "  <tbody>\n",
       "    <tr>\n",
       "      <th>2010-01-05</th>\n",
       "      <td>0.008095</td>\n",
       "      <td>0.019395</td>\n",
       "      <td>-0.001288</td>\n",
       "      <td>-0.006670</td>\n",
       "      <td>0.006719</td>\n",
       "      <td>0.0</td>\n",
       "      <td>0.037460</td>\n",
       "      <td>0.023784</td>\n",
       "      <td>-0.009438</td>\n",
       "      <td>-0.002094</td>\n",
       "      <td>-0.052632</td>\n",
       "      <td>-0.002287</td>\n",
       "      <td>0.035503</td>\n",
       "      <td>-0.041267</td>\n",
       "      <td>0.058824</td>\n",
       "      <td>0.099167</td>\n",
       "      <td>-0.002004</td>\n",
       "      <td>-0.355212</td>\n",
       "      <td>0.014065</td>\n",
       "      <td>0.048644</td>\n",
       "    </tr>\n",
       "    <tr>\n",
       "      <th>2010-01-06</th>\n",
       "      <td>-0.008614</td>\n",
       "      <td>0.001619</td>\n",
       "      <td>0.008704</td>\n",
       "      <td>0.001857</td>\n",
       "      <td>-0.007134</td>\n",
       "      <td>0.0</td>\n",
       "      <td>0.005508</td>\n",
       "      <td>0.022754</td>\n",
       "      <td>-0.007562</td>\n",
       "      <td>-0.015385</td>\n",
       "      <td>0.044444</td>\n",
       "      <td>-0.003543</td>\n",
       "      <td>0.000000</td>\n",
       "      <td>0.000000</td>\n",
       "      <td>-0.074074</td>\n",
       "      <td>0.194086</td>\n",
       "      <td>0.094377</td>\n",
       "      <td>-0.053892</td>\n",
       "      <td>0.014910</td>\n",
       "      <td>-0.002312</td>\n",
       "    </tr>\n",
       "    <tr>\n",
       "      <th>2010-01-07</th>\n",
       "      <td>-0.011782</td>\n",
       "      <td>0.023845</td>\n",
       "      <td>-0.010547</td>\n",
       "      <td>-0.009411</td>\n",
       "      <td>-0.003013</td>\n",
       "      <td>0.0</td>\n",
       "      <td>0.001217</td>\n",
       "      <td>0.022364</td>\n",
       "      <td>0.018440</td>\n",
       "      <td>-0.005682</td>\n",
       "      <td>-0.021277</td>\n",
       "      <td>0.020288</td>\n",
       "      <td>0.000000</td>\n",
       "      <td>-0.008695</td>\n",
       "      <td>0.000000</td>\n",
       "      <td>0.079365</td>\n",
       "      <td>0.000000</td>\n",
       "      <td>0.006329</td>\n",
       "      <td>-0.004783</td>\n",
       "      <td>0.017526</td>\n",
       "    </tr>\n",
       "    <tr>\n",
       "      <th>2010-01-08</th>\n",
       "      <td>-0.001490</td>\n",
       "      <td>0.022368</td>\n",
       "      <td>0.000323</td>\n",
       "      <td>0.005614</td>\n",
       "      <td>-0.005813</td>\n",
       "      <td>0.0</td>\n",
       "      <td>-0.006687</td>\n",
       "      <td>0.003646</td>\n",
       "      <td>0.007033</td>\n",
       "      <td>0.001429</td>\n",
       "      <td>0.010870</td>\n",
       "      <td>0.030955</td>\n",
       "      <td>-0.006857</td>\n",
       "      <td>-0.004386</td>\n",
       "      <td>-0.006000</td>\n",
       "      <td>0.058823</td>\n",
       "      <td>0.000000</td>\n",
       "      <td>0.006289</td>\n",
       "      <td>0.011672</td>\n",
       "      <td>0.005552</td>\n",
       "    </tr>\n",
       "    <tr>\n",
       "      <th>2010-01-11</th>\n",
       "      <td>-0.011194</td>\n",
       "      <td>-0.024839</td>\n",
       "      <td>0.002583</td>\n",
       "      <td>-0.008302</td>\n",
       "      <td>0.003275</td>\n",
       "      <td>0.0</td>\n",
       "      <td>-0.022338</td>\n",
       "      <td>0.017823</td>\n",
       "      <td>-0.015156</td>\n",
       "      <td>0.009510</td>\n",
       "      <td>-0.021505</td>\n",
       "      <td>-0.015510</td>\n",
       "      <td>0.000000</td>\n",
       "      <td>-0.030837</td>\n",
       "      <td>0.016097</td>\n",
       "      <td>-0.125000</td>\n",
       "      <td>-0.084404</td>\n",
       "      <td>0.000000</td>\n",
       "      <td>0.018324</td>\n",
       "      <td>-0.009060</td>\n",
       "    </tr>\n",
       "  </tbody>\n",
       "</table>\n",
       "</div>"
      ],
      "text/plain": [
       "              WHA.AS   INGA.AS    URW.AS    DSM.AS  SHELL.AS  AMUND.AS  \\\n",
       "Date                                                                     \n",
       "2010-01-05  0.008095  0.019395 -0.001288 -0.006670  0.006719       0.0   \n",
       "2010-01-06 -0.008614  0.001619  0.008704  0.001857 -0.007134       0.0   \n",
       "2010-01-07 -0.011782  0.023845 -0.010547 -0.009411 -0.003013       0.0   \n",
       "2010-01-08 -0.001490  0.022368  0.000323  0.005614 -0.005813       0.0   \n",
       "2010-01-11 -0.011194 -0.024839  0.002583 -0.008302  0.003275       0.0   \n",
       "\n",
       "            ARCAD.AS    FUR.AS     MT.AS   PHIA.AS   ROOD.AS    AGN.AS  \\\n",
       "Date                                                                     \n",
       "2010-01-05  0.037460  0.023784 -0.009438 -0.002094 -0.052632 -0.002287   \n",
       "2010-01-06  0.005508  0.022754 -0.007562 -0.015385  0.044444 -0.003543   \n",
       "2010-01-07  0.001217  0.022364  0.018440 -0.005682 -0.021277  0.020288   \n",
       "2010-01-08 -0.006687  0.003646  0.007033  0.001429  0.010870  0.030955   \n",
       "2010-01-11 -0.022338  0.017823 -0.015156  0.009510 -0.021505 -0.015510   \n",
       "\n",
       "            EAS2P.AS   CTAC.AS    IEX.AS  VALUE.AS   PORF.AS    VTA.AS  \\\n",
       "Date                                                                     \n",
       "2010-01-05  0.035503 -0.041267  0.058824  0.099167 -0.002004 -0.355212   \n",
       "2010-01-06  0.000000  0.000000 -0.074074  0.194086  0.094377 -0.053892   \n",
       "2010-01-07  0.000000 -0.008695  0.000000  0.079365  0.000000  0.006329   \n",
       "2010-01-08 -0.006857 -0.004386 -0.006000  0.058823  0.000000  0.006289   \n",
       "2010-01-11  0.000000 -0.030837  0.016097 -0.125000 -0.084404  0.000000   \n",
       "\n",
       "             SBMO.AS   TOM2.AS  \n",
       "Date                            \n",
       "2010-01-05  0.014065  0.048644  \n",
       "2010-01-06  0.014910 -0.002312  \n",
       "2010-01-07 -0.004783  0.017526  \n",
       "2010-01-08  0.011672  0.005552  \n",
       "2010-01-11  0.018324 -0.009060  "
      ]
     },
     "execution_count": 4,
     "metadata": {},
     "output_type": "execute_result"
    }
   ],
   "source": [
    "returns = pf.daily_asset_return(prices)\n",
    "\n",
    "returns.head()"
   ]
  },
  {
   "attachments": {},
   "cell_type": "markdown",
   "metadata": {},
   "source": [
    "Nous devons définir une période d'entrainement et de test :\n",
    "* la période d'entrainement est entre la première date disponible et le 1er Janvier 2015\n",
    "* la période de test est entre la fin de l'entrainement et la dernière date disponible "
   ]
  },
  {
   "cell_type": "code",
   "execution_count": 5,
   "metadata": {},
   "outputs": [],
   "source": [
    "begin_train = returns.index[0]\n",
    "end_train = \"2017-01-01\"\n",
    "begin_test = end_train\n",
    "end_test = returns.index[-1]"
   ]
  },
  {
   "attachments": {},
   "cell_type": "markdown",
   "metadata": {},
   "source": [
    "Il est nécessaire de séparer les données entre la phase d'entrainement et la phase de test."
   ]
  },
  {
   "cell_type": "code",
   "execution_count": 6,
   "metadata": {},
   "outputs": [],
   "source": [
    "returns_train, returns_test = pf.seperate_df(returns, begin_train, end_train, begin_test, end_test)"
   ]
  },
  {
   "attachments": {},
   "cell_type": "markdown",
   "metadata": {},
   "source": [
    "Nous pouvons déterminer les returns annualisés année grâce à la ligne de code suivante :"
   ]
  },
  {
   "cell_type": "code",
   "execution_count": 7,
   "metadata": {},
   "outputs": [],
   "source": [
    "annu_returns_train = pf.annualy_asset_return(returns_train)"
   ]
  },
  {
   "attachments": {},
   "cell_type": "markdown",
   "metadata": {},
   "source": [
    "## Mean-Variance Portfolio"
   ]
  },
  {
   "attachments": {},
   "cell_type": "markdown",
   "metadata": {},
   "source": [
    "Let's compute the covariance matrix of the returns."
   ]
  },
  {
   "cell_type": "code",
   "execution_count": 8,
   "metadata": {},
   "outputs": [],
   "source": [
    "cov_matrix_train = returns_train.cov()"
   ]
  },
  {
   "cell_type": "code",
   "execution_count": 9,
   "metadata": {},
   "outputs": [
    {
     "name": "stdout",
     "output_type": "stream",
     "text": [
      "The portfolio return is: 11.39 %\n",
      "The portfolio volatility is: 13.38 %\n"
     ]
    }
   ],
   "source": [
    "w,r,v = pf.gmv_portfolio(returns_train,cov_matrix_train,show=True)"
   ]
  },
  {
   "cell_type": "code",
   "execution_count": 10,
   "metadata": {},
   "outputs": [
    {
     "name": "stderr",
     "output_type": "stream",
     "text": [
      "/Users/simonevanno/Desktop/centrale marseille/cours/3A/TEMPS2/Gestion Portefeuille/Portfolio-Project/project_functions.py:48: RuntimeWarning: invalid value encountered in double_scalars\n",
      "  return (df+1).prod()**(business_days/df.shape[0])-1\n"
     ]
    },
    {
     "name": "stdout",
     "output_type": "stream",
     "text": [
      "The portfolio return is: 10.0 %\n",
      "The portfolio volatility is: 13.4 %\n"
     ]
    }
   ],
   "source": [
    "w,r,vol = pf.opt_mean_variance(returns_train,cov_matrix_train,obj_rend=0.1,show=True)"
   ]
  },
  {
   "cell_type": "code",
   "execution_count": 11,
   "metadata": {},
   "outputs": [
    {
     "data": {
      "image/png": "[encoded data removed]",
      "text/plain": [
       "<Figure size 1080x432 with 1 Axes>"
      ]
     },
     "metadata": {},
     "output_type": "display_data"
    }
   ],
   "source": [
    "# plot the efficient frontier\n",
    "eff = pf.efficient_frontier(returns_train,cov_matrix_train,min=0.02,max=0.7,number=20,plot=True)"
   ]
  },
  {
   "attachments": {},
   "cell_type": "markdown",
   "metadata": {},
   "source": [
    "Calculons le return du portfolio avec les poids souhaités sur la période de test :"
   ]
  },
  {
   "cell_type": "code",
   "execution_count": 12,
   "metadata": {},
   "outputs": [
    {
     "name": "stdout",
     "output_type": "stream",
     "text": [
      "The portfolio return is: 8.39 %\n"
     ]
    }
   ],
   "source": [
    "portfolio_return_test = pf.portfolio_return(w,returns_test,show=True)"
   ]
  }
 ],
 "metadata": {
  "kernelspec": {
   "display_name": "base",
   "language": "python",
   "name": "python3"
  },
  "language_info": {
   "codemirror_mode": {
    "name": "ipython",
    "version": 3
   },
   "file_extension": ".py",
   "mimetype": "text/x-python",
   "name": "python",
   "nbconvert_exporter": "python",
   "pygments_lexer": "ipython3",
   "version": "3.8.8"
  },
  "orig_nbformat": 4,
  "vscode": {
   "interpreter": {
    "hash": "04c4a0fbbf9072cd1f31dc31c4706508385dca986472c1d0d89a175610d17b20"
   }
  }
 },
 "nbformat": 4,
 "nbformat_minor": 2
}

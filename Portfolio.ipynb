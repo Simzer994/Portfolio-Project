{
 "cells": [
  {
   "attachments": {},
   "cell_type": "markdown",
   "metadata": {},
   "source": [
    "# Librairies"
   ]
  },
  {
   "cell_type": "code",
   "execution_count": 1,
   "metadata": {},
   "outputs": [],
   "source": [
    "import project_functions as pf\n",
    "import numpy as np\n",
    "import pandas as pd\n",
    "import seaborn as sns\n",
    "sns.set_theme()\n",
    "sns.set(rc={\"figure.figsize\":(15, 6)},style=\"whitegrid\")"
   ]
  },
  {
   "attachments": {},
   "cell_type": "markdown",
   "metadata": {},
   "source": [
    "# Portfolio"
   ]
  },
  {
   "attachments": {},
   "cell_type": "markdown",
   "metadata": {},
   "source": [
    "Importons les données :"
   ]
  },
  {
   "cell_type": "code",
   "execution_count": 2,
   "metadata": {},
   "outputs": [],
   "source": [
    "# récupérons les données des prix sauvegardés dans le fichier prices.csv\n",
    "datas = pd.read_csv('datas/prices.csv', sep=',')\n",
    "\n",
    "# On récupère les tickers stockés dans le fichier tickers.txt\n",
    "tickers = pf.get_tickers('datas/tickers1.txt')"
   ]
  },
  {
   "cell_type": "code",
   "execution_count": 3,
   "metadata": {},
   "outputs": [
    {
     "data": {
      "text/html": [
       "<div>\n",
       "<style scoped>\n",
       "    .dataframe tbody tr th:only-of-type {\n",
       "        vertical-align: middle;\n",
       "    }\n",
       "\n",
       "    .dataframe tbody tr th {\n",
       "        vertical-align: top;\n",
       "    }\n",
       "\n",
       "    .dataframe thead th {\n",
       "        text-align: right;\n",
       "    }\n",
       "</style>\n",
       "<table border=\"1\" class=\"dataframe\">\n",
       "  <thead>\n",
       "    <tr style=\"text-align: right;\">\n",
       "      <th></th>\n",
       "      <th>AALB.AS</th>\n",
       "      <th>ACOMO.AS</th>\n",
       "      <th>AD.AS</th>\n",
       "      <th>AGN.AS</th>\n",
       "      <th>AJAX.AS</th>\n",
       "      <th>AKZA.AS</th>\n",
       "      <th>ALX.AS</th>\n",
       "      <th>AMG.AS</th>\n",
       "      <th>AMUND.AS</th>\n",
       "      <th>ARCAD.AS</th>\n",
       "      <th>ASM.AS</th>\n",
       "      <th>ASML.AS</th>\n",
       "      <th>AXS.AS</th>\n",
       "      <th>BAMNB.AS</th>\n",
       "      <th>BBED.AS</th>\n",
       "      <th>BESI.AS</th>\n",
       "      <th>BGHL.AS</th>\n",
       "      <th>BRILL.AS</th>\n",
       "      <th>BRNL.AS</th>\n",
       "      <th>CRBN.AS</th>\n",
       "    </tr>\n",
       "    <tr>\n",
       "      <th>Date</th>\n",
       "      <th></th>\n",
       "      <th></th>\n",
       "      <th></th>\n",
       "      <th></th>\n",
       "      <th></th>\n",
       "      <th></th>\n",
       "      <th></th>\n",
       "      <th></th>\n",
       "      <th></th>\n",
       "      <th></th>\n",
       "      <th></th>\n",
       "      <th></th>\n",
       "      <th></th>\n",
       "      <th></th>\n",
       "      <th></th>\n",
       "      <th></th>\n",
       "      <th></th>\n",
       "      <th></th>\n",
       "      <th></th>\n",
       "      <th></th>\n",
       "    </tr>\n",
       "  </thead>\n",
       "  <tbody>\n",
       "    <tr>\n",
       "      <th>2010-01-04</th>\n",
       "      <td>8.183498</td>\n",
       "      <td>3.089914</td>\n",
       "      <td>6.128687</td>\n",
       "      <td>2.645846</td>\n",
       "      <td>6.127661</td>\n",
       "      <td>29.324984</td>\n",
       "      <td>78.000000</td>\n",
       "      <td>8.194963</td>\n",
       "      <td>12.383609</td>\n",
       "      <td>10.344408</td>\n",
       "      <td>11.537248</td>\n",
       "      <td>27.659260</td>\n",
       "      <td>1.967913</td>\n",
       "      <td>4.795937</td>\n",
       "      <td>10.836442</td>\n",
       "      <td>0.830604</td>\n",
       "      <td>9.75</td>\n",
       "      <td>5.382684</td>\n",
       "      <td>8.118333</td>\n",
       "      <td>12.707550</td>\n",
       "    </tr>\n",
       "    <tr>\n",
       "      <th>2010-01-05</th>\n",
       "      <td>8.148955</td>\n",
       "      <td>3.078680</td>\n",
       "      <td>6.077343</td>\n",
       "      <td>2.639794</td>\n",
       "      <td>6.165899</td>\n",
       "      <td>29.102234</td>\n",
       "      <td>75.000000</td>\n",
       "      <td>8.169353</td>\n",
       "      <td>12.383609</td>\n",
       "      <td>10.731913</td>\n",
       "      <td>11.630810</td>\n",
       "      <td>27.710567</td>\n",
       "      <td>1.889196</td>\n",
       "      <td>4.772008</td>\n",
       "      <td>11.138389</td>\n",
       "      <td>0.846276</td>\n",
       "      <td>9.90</td>\n",
       "      <td>5.408440</td>\n",
       "      <td>8.564506</td>\n",
       "      <td>12.619114</td>\n",
       "    </tr>\n",
       "    <tr>\n",
       "      <th>2010-01-06</th>\n",
       "      <td>8.310164</td>\n",
       "      <td>3.089914</td>\n",
       "      <td>6.111786</td>\n",
       "      <td>2.630441</td>\n",
       "      <td>6.165899</td>\n",
       "      <td>29.177525</td>\n",
       "      <td>72.800003</td>\n",
       "      <td>8.080161</td>\n",
       "      <td>12.383609</td>\n",
       "      <td>10.791023</td>\n",
       "      <td>11.788899</td>\n",
       "      <td>28.007000</td>\n",
       "      <td>1.810480</td>\n",
       "      <td>4.731705</td>\n",
       "      <td>11.084709</td>\n",
       "      <td>0.830604</td>\n",
       "      <td>9.81</td>\n",
       "      <td>5.408440</td>\n",
       "      <td>8.889911</td>\n",
       "      <td>12.772176</td>\n",
       "    </tr>\n",
       "    <tr>\n",
       "      <th>2010-01-07</th>\n",
       "      <td>8.267944</td>\n",
       "      <td>3.075870</td>\n",
       "      <td>5.977906</td>\n",
       "      <td>2.683808</td>\n",
       "      <td>5.974709</td>\n",
       "      <td>28.703789</td>\n",
       "      <td>73.000000</td>\n",
       "      <td>8.124315</td>\n",
       "      <td>12.383609</td>\n",
       "      <td>10.804158</td>\n",
       "      <td>11.511437</td>\n",
       "      <td>27.493944</td>\n",
       "      <td>1.771121</td>\n",
       "      <td>4.768229</td>\n",
       "      <td>10.769344</td>\n",
       "      <td>0.836873</td>\n",
       "      <td>9.95</td>\n",
       "      <td>5.408440</td>\n",
       "      <td>8.772497</td>\n",
       "      <td>12.925238</td>\n",
       "    </tr>\n",
       "    <tr>\n",
       "      <th>2010-01-08</th>\n",
       "      <td>8.283298</td>\n",
       "      <td>3.101151</td>\n",
       "      <td>6.039648</td>\n",
       "      <td>2.766887</td>\n",
       "      <td>6.070304</td>\n",
       "      <td>28.499855</td>\n",
       "      <td>74.000000</td>\n",
       "      <td>8.106654</td>\n",
       "      <td>12.383609</td>\n",
       "      <td>10.731913</td>\n",
       "      <td>11.927629</td>\n",
       "      <td>26.570450</td>\n",
       "      <td>1.810480</td>\n",
       "      <td>4.961554</td>\n",
       "      <td>10.722376</td>\n",
       "      <td>0.852545</td>\n",
       "      <td>10.13</td>\n",
       "      <td>5.408440</td>\n",
       "      <td>9.557491</td>\n",
       "      <td>13.340207</td>\n",
       "    </tr>\n",
       "  </tbody>\n",
       "</table>\n",
       "</div>"
      ],
      "text/plain": [
       "             AALB.AS  ACOMO.AS     AD.AS    AGN.AS   AJAX.AS    AKZA.AS  \\\n",
       "Date                                                                      \n",
       "2010-01-04  8.183498  3.089914  6.128687  2.645846  6.127661  29.324984   \n",
       "2010-01-05  8.148955  3.078680  6.077343  2.639794  6.165899  29.102234   \n",
       "2010-01-06  8.310164  3.089914  6.111786  2.630441  6.165899  29.177525   \n",
       "2010-01-07  8.267944  3.075870  5.977906  2.683808  5.974709  28.703789   \n",
       "2010-01-08  8.283298  3.101151  6.039648  2.766887  6.070304  28.499855   \n",
       "\n",
       "               ALX.AS    AMG.AS   AMUND.AS   ARCAD.AS     ASM.AS    ASML.AS  \\\n",
       "Date                                                                          \n",
       "2010-01-04  78.000000  8.194963  12.383609  10.344408  11.537248  27.659260   \n",
       "2010-01-05  75.000000  8.169353  12.383609  10.731913  11.630810  27.710567   \n",
       "2010-01-06  72.800003  8.080161  12.383609  10.791023  11.788899  28.007000   \n",
       "2010-01-07  73.000000  8.124315  12.383609  10.804158  11.511437  27.493944   \n",
       "2010-01-08  74.000000  8.106654  12.383609  10.731913  11.927629  26.570450   \n",
       "\n",
       "              AXS.AS  BAMNB.AS    BBED.AS   BESI.AS  BGHL.AS  BRILL.AS  \\\n",
       "Date                                                                     \n",
       "2010-01-04  1.967913  4.795937  10.836442  0.830604     9.75  5.382684   \n",
       "2010-01-05  1.889196  4.772008  11.138389  0.846276     9.90  5.408440   \n",
       "2010-01-06  1.810480  4.731705  11.084709  0.830604     9.81  5.408440   \n",
       "2010-01-07  1.771121  4.768229  10.769344  0.836873     9.95  5.408440   \n",
       "2010-01-08  1.810480  4.961554  10.722376  0.852545    10.13  5.408440   \n",
       "\n",
       "             BRNL.AS    CRBN.AS  \n",
       "Date                             \n",
       "2010-01-04  8.118333  12.707550  \n",
       "2010-01-05  8.564506  12.619114  \n",
       "2010-01-06  8.889911  12.772176  \n",
       "2010-01-07  8.772497  12.925238  \n",
       "2010-01-08  9.557491  13.340207  "
      ]
     },
     "execution_count": 3,
     "metadata": {},
     "output_type": "execute_result"
    }
   ],
   "source": [
    "# Uniquement les prix liées aux tickers\n",
    "prices = datas[[\"Date\"]+tickers]\n",
    "\n",
    "# On transforme la colonne Date en index\n",
    "prices.set_index(\"Date\", inplace=True)\n",
    "prices.index = pd.to_datetime(prices.index)\n",
    "\n",
    "prices.head()"
   ]
  },
  {
   "attachments": {},
   "cell_type": "markdown",
   "metadata": {},
   "source": [
    "Calculons les returns journaliers :"
   ]
  },
  {
   "cell_type": "code",
   "execution_count": 4,
   "metadata": {},
   "outputs": [
    {
     "data": {
      "text/html": [
       "<div>\n",
       "<style scoped>\n",
       "    .dataframe tbody tr th:only-of-type {\n",
       "        vertical-align: middle;\n",
       "    }\n",
       "\n",
       "    .dataframe tbody tr th {\n",
       "        vertical-align: top;\n",
       "    }\n",
       "\n",
       "    .dataframe thead th {\n",
       "        text-align: right;\n",
       "    }\n",
       "</style>\n",
       "<table border=\"1\" class=\"dataframe\">\n",
       "  <thead>\n",
       "    <tr style=\"text-align: right;\">\n",
       "      <th></th>\n",
       "      <th>AALB.AS</th>\n",
       "      <th>ACOMO.AS</th>\n",
       "      <th>AD.AS</th>\n",
       "      <th>AGN.AS</th>\n",
       "      <th>AJAX.AS</th>\n",
       "      <th>AKZA.AS</th>\n",
       "      <th>ALX.AS</th>\n",
       "      <th>AMG.AS</th>\n",
       "      <th>AMUND.AS</th>\n",
       "      <th>ARCAD.AS</th>\n",
       "      <th>ASM.AS</th>\n",
       "      <th>ASML.AS</th>\n",
       "      <th>AXS.AS</th>\n",
       "      <th>BAMNB.AS</th>\n",
       "      <th>BBED.AS</th>\n",
       "      <th>BESI.AS</th>\n",
       "      <th>BGHL.AS</th>\n",
       "      <th>BRILL.AS</th>\n",
       "      <th>BRNL.AS</th>\n",
       "      <th>CRBN.AS</th>\n",
       "    </tr>\n",
       "    <tr>\n",
       "      <th>Date</th>\n",
       "      <th></th>\n",
       "      <th></th>\n",
       "      <th></th>\n",
       "      <th></th>\n",
       "      <th></th>\n",
       "      <th></th>\n",
       "      <th></th>\n",
       "      <th></th>\n",
       "      <th></th>\n",
       "      <th></th>\n",
       "      <th></th>\n",
       "      <th></th>\n",
       "      <th></th>\n",
       "      <th></th>\n",
       "      <th></th>\n",
       "      <th></th>\n",
       "      <th></th>\n",
       "      <th></th>\n",
       "      <th></th>\n",
       "      <th></th>\n",
       "    </tr>\n",
       "  </thead>\n",
       "  <tbody>\n",
       "    <tr>\n",
       "      <th>2010-01-05</th>\n",
       "      <td>-0.004221</td>\n",
       "      <td>-0.003636</td>\n",
       "      <td>-0.008378</td>\n",
       "      <td>-0.002287</td>\n",
       "      <td>0.006240</td>\n",
       "      <td>-0.007596</td>\n",
       "      <td>-0.038462</td>\n",
       "      <td>-0.003125</td>\n",
       "      <td>0.0</td>\n",
       "      <td>0.037460</td>\n",
       "      <td>0.008110</td>\n",
       "      <td>0.001855</td>\n",
       "      <td>-0.040000</td>\n",
       "      <td>-0.004989</td>\n",
       "      <td>0.027864</td>\n",
       "      <td>0.018868</td>\n",
       "      <td>0.015385</td>\n",
       "      <td>0.004785</td>\n",
       "      <td>0.054959</td>\n",
       "      <td>-0.006959</td>\n",
       "    </tr>\n",
       "    <tr>\n",
       "      <th>2010-01-06</th>\n",
       "      <td>0.019783</td>\n",
       "      <td>0.003649</td>\n",
       "      <td>0.005668</td>\n",
       "      <td>-0.003543</td>\n",
       "      <td>0.000000</td>\n",
       "      <td>0.002587</td>\n",
       "      <td>-0.029333</td>\n",
       "      <td>-0.010918</td>\n",
       "      <td>0.0</td>\n",
       "      <td>0.005508</td>\n",
       "      <td>0.013592</td>\n",
       "      <td>0.010697</td>\n",
       "      <td>-0.041666</td>\n",
       "      <td>-0.008446</td>\n",
       "      <td>-0.004819</td>\n",
       "      <td>-0.018518</td>\n",
       "      <td>-0.009091</td>\n",
       "      <td>0.000000</td>\n",
       "      <td>0.037995</td>\n",
       "      <td>0.012129</td>\n",
       "    </tr>\n",
       "    <tr>\n",
       "      <th>2010-01-07</th>\n",
       "      <td>-0.005081</td>\n",
       "      <td>-0.004545</td>\n",
       "      <td>-0.021905</td>\n",
       "      <td>0.020288</td>\n",
       "      <td>-0.031008</td>\n",
       "      <td>-0.016236</td>\n",
       "      <td>0.002747</td>\n",
       "      <td>0.005465</td>\n",
       "      <td>0.0</td>\n",
       "      <td>0.001217</td>\n",
       "      <td>-0.023536</td>\n",
       "      <td>-0.018319</td>\n",
       "      <td>-0.021740</td>\n",
       "      <td>0.007719</td>\n",
       "      <td>-0.028450</td>\n",
       "      <td>0.007547</td>\n",
       "      <td>0.014271</td>\n",
       "      <td>0.000000</td>\n",
       "      <td>-0.013208</td>\n",
       "      <td>0.011984</td>\n",
       "    </tr>\n",
       "    <tr>\n",
       "      <th>2010-01-08</th>\n",
       "      <td>0.001857</td>\n",
       "      <td>0.008219</td>\n",
       "      <td>0.010328</td>\n",
       "      <td>0.030955</td>\n",
       "      <td>0.016000</td>\n",
       "      <td>-0.007105</td>\n",
       "      <td>0.013699</td>\n",
       "      <td>-0.002174</td>\n",
       "      <td>0.0</td>\n",
       "      <td>-0.006687</td>\n",
       "      <td>0.036155</td>\n",
       "      <td>-0.033589</td>\n",
       "      <td>0.022223</td>\n",
       "      <td>0.040544</td>\n",
       "      <td>-0.004361</td>\n",
       "      <td>0.018726</td>\n",
       "      <td>0.018090</td>\n",
       "      <td>0.000000</td>\n",
       "      <td>0.089484</td>\n",
       "      <td>0.032105</td>\n",
       "    </tr>\n",
       "    <tr>\n",
       "      <th>2010-01-11</th>\n",
       "      <td>0.014829</td>\n",
       "      <td>0.012682</td>\n",
       "      <td>0.001076</td>\n",
       "      <td>-0.015510</td>\n",
       "      <td>-0.012441</td>\n",
       "      <td>-0.023338</td>\n",
       "      <td>-0.004054</td>\n",
       "      <td>0.020697</td>\n",
       "      <td>0.0</td>\n",
       "      <td>-0.022338</td>\n",
       "      <td>-0.029213</td>\n",
       "      <td>-0.037546</td>\n",
       "      <td>0.021739</td>\n",
       "      <td>-0.012565</td>\n",
       "      <td>0.001252</td>\n",
       "      <td>-0.003676</td>\n",
       "      <td>0.000000</td>\n",
       "      <td>-0.023809</td>\n",
       "      <td>0.013338</td>\n",
       "      <td>-0.000765</td>\n",
       "    </tr>\n",
       "  </tbody>\n",
       "</table>\n",
       "</div>"
      ],
      "text/plain": [
       "             AALB.AS  ACOMO.AS     AD.AS    AGN.AS   AJAX.AS   AKZA.AS  \\\n",
       "Date                                                                     \n",
       "2010-01-05 -0.004221 -0.003636 -0.008378 -0.002287  0.006240 -0.007596   \n",
       "2010-01-06  0.019783  0.003649  0.005668 -0.003543  0.000000  0.002587   \n",
       "2010-01-07 -0.005081 -0.004545 -0.021905  0.020288 -0.031008 -0.016236   \n",
       "2010-01-08  0.001857  0.008219  0.010328  0.030955  0.016000 -0.007105   \n",
       "2010-01-11  0.014829  0.012682  0.001076 -0.015510 -0.012441 -0.023338   \n",
       "\n",
       "              ALX.AS    AMG.AS  AMUND.AS  ARCAD.AS    ASM.AS   ASML.AS  \\\n",
       "Date                                                                     \n",
       "2010-01-05 -0.038462 -0.003125       0.0  0.037460  0.008110  0.001855   \n",
       "2010-01-06 -0.029333 -0.010918       0.0  0.005508  0.013592  0.010697   \n",
       "2010-01-07  0.002747  0.005465       0.0  0.001217 -0.023536 -0.018319   \n",
       "2010-01-08  0.013699 -0.002174       0.0 -0.006687  0.036155 -0.033589   \n",
       "2010-01-11 -0.004054  0.020697       0.0 -0.022338 -0.029213 -0.037546   \n",
       "\n",
       "              AXS.AS  BAMNB.AS   BBED.AS   BESI.AS   BGHL.AS  BRILL.AS  \\\n",
       "Date                                                                     \n",
       "2010-01-05 -0.040000 -0.004989  0.027864  0.018868  0.015385  0.004785   \n",
       "2010-01-06 -0.041666 -0.008446 -0.004819 -0.018518 -0.009091  0.000000   \n",
       "2010-01-07 -0.021740  0.007719 -0.028450  0.007547  0.014271  0.000000   \n",
       "2010-01-08  0.022223  0.040544 -0.004361  0.018726  0.018090  0.000000   \n",
       "2010-01-11  0.021739 -0.012565  0.001252 -0.003676  0.000000 -0.023809   \n",
       "\n",
       "             BRNL.AS   CRBN.AS  \n",
       "Date                            \n",
       "2010-01-05  0.054959 -0.006959  \n",
       "2010-01-06  0.037995  0.012129  \n",
       "2010-01-07 -0.013208  0.011984  \n",
       "2010-01-08  0.089484  0.032105  \n",
       "2010-01-11  0.013338 -0.000765  "
      ]
     },
     "execution_count": 4,
     "metadata": {},
     "output_type": "execute_result"
    }
   ],
   "source": [
    "returns = pf.daily_asset_return(prices)\n",
    "\n",
    "returns.head()"
   ]
  },
  {
   "attachments": {},
   "cell_type": "markdown",
   "metadata": {},
   "source": [
    "Nous devons définir une période d'entrainement et de test :\n",
    "* la période d'entrainement est entre la première date disponible et le 1er Janvier 2015\n",
    "* la période de test est entre la fin de l'entrainement et la dernière date disponible "
   ]
  },
  {
   "cell_type": "code",
   "execution_count": 5,
   "metadata": {},
   "outputs": [],
   "source": [
    "begin_train = returns.index[0]\n",
    "end_train = \"2017-01-01\"\n",
    "begin_test = end_train\n",
    "end_test = returns.index[-1]"
   ]
  },
  {
   "attachments": {},
   "cell_type": "markdown",
   "metadata": {},
   "source": [
    "Il est nécessaire de séparer les données entre la phase d'entrainement et la phase de test."
   ]
  },
  {
   "cell_type": "code",
   "execution_count": 6,
   "metadata": {},
   "outputs": [],
   "source": [
    "returns_train, returns_test = pf.seperate_df(returns, begin_train, end_train, begin_test, end_test)"
   ]
  },
  {
   "attachments": {},
   "cell_type": "markdown",
   "metadata": {},
   "source": [
    "Nous pouvons déterminer les returns annualisés année grâce à la ligne de code suivante :"
   ]
  },
  {
   "cell_type": "code",
   "execution_count": 7,
   "metadata": {},
   "outputs": [],
   "source": [
    "annu_returns_train = pf.annualy_asset_return(returns_train)"
   ]
  },
  {
   "attachments": {},
   "cell_type": "markdown",
   "metadata": {},
   "source": [
    "## Mean-Variance Portfolio"
   ]
  },
  {
   "attachments": {},
   "cell_type": "markdown",
   "metadata": {},
   "source": [
    "Let's compute the covariance matrix of the returns."
   ]
  },
  {
   "cell_type": "code",
   "execution_count": 8,
   "metadata": {},
   "outputs": [],
   "source": [
    "cov_matrix_train = returns_train.cov()"
   ]
  },
  {
   "cell_type": "code",
   "execution_count": 9,
   "metadata": {},
   "outputs": [
    {
     "name": "stdout",
     "output_type": "stream",
     "text": [
      "The portfolio return is: 17.34 %\n",
      "The portfolio volatility is: 11.94 %\n"
     ]
    }
   ],
   "source": [
    "w,r,v = pf.gmv_portfolio(returns_train,cov_matrix_train,show=True)"
   ]
  },
  {
   "cell_type": "code",
   "execution_count": 10,
   "metadata": {},
   "outputs": [
    {
     "name": "stdout",
     "output_type": "stream",
     "text": [
      "The portfolio return is: 10.0 %\n",
      "The portfolio volatility is: 12.8 %\n"
     ]
    }
   ],
   "source": [
    "w,r,vol = pf.opt_mean_variance(returns_train,cov_matrix_train,obj_rend=0.1,show=True)"
   ]
  },
  {
   "cell_type": "code",
   "execution_count": 11,
   "metadata": {},
   "outputs": [
    {
     "name": "stderr",
     "output_type": "stream",
     "text": [
      "/Users/simonevanno/Desktop/centrale marseille/cours/3A/TEMPS2/Gestion Portefeuille/Portfolio-Project/project_functions.py:48: RuntimeWarning: invalid value encountered in double_scalars\n",
      "  return (df+1).prod()**(business_days/df.shape[0])-1\n"
     ]
    },
    {
     "data": {
      "image/png": "[encoded data removed]",
      "text/plain": [
       "<Figure size 1080x432 with 1 Axes>"
      ]
     },
     "metadata": {},
     "output_type": "display_data"
    }
   ],
   "source": [
    "# plot the efficient frontier\n",
    "eff = pf.efficient_frontier(returns_train,cov_matrix_train,min=0.02,max=0.7,number=20,plot=True)"
   ]
  },
  {
   "attachments": {},
   "cell_type": "markdown",
   "metadata": {},
   "source": [
    "Calculons le return du portfolio avec les poids souhaités sur la période de test :"
   ]
  },
  {
   "cell_type": "code",
   "execution_count": 12,
   "metadata": {},
   "outputs": [
    {
     "name": "stdout",
     "output_type": "stream",
     "text": [
      "The portfolio return is: 2.16 %\n"
     ]
    }
   ],
   "source": [
    "portfolio_return_test = pf.portfolio_return(w,returns_test,show=True)"
   ]
  }
 ],
 "metadata": {
  "kernelspec": {
   "display_name": "base",
   "language": "python",
   "name": "python3"
  },
  "language_info": {
   "codemirror_mode": {
    "name": "ipython",
    "version": 3
   },
   "file_extension": ".py",
   "mimetype": "text/x-python",
   "name": "python",
   "nbconvert_exporter": "python",
   "pygments_lexer": "ipython3",
   "version": "3.8.8"
  },
  "orig_nbformat": 4,
  "vscode": {
   "interpreter": {
    "hash": "04c4a0fbbf9072cd1f31dc31c4706508385dca986472c1d0d89a175610d17b20"
   }
  }
 },
 "nbformat": 4,
 "nbformat_minor": 2
}

{
 "cells": [
  {
   "attachments": {},
   "cell_type": "markdown",
   "metadata": {},
   "source": [
    "# Librairies"
   ]
  },
  {
   "cell_type": "code",
   "execution_count": 14,
   "metadata": {},
   "outputs": [],
   "source": [
    "import project_functions as pf\n",
    "import numpy as np\n",
    "import pandas as pd\n",
    "import seaborn as sns\n",
    "sns.set_theme()\n",
    "sns.set(rc={\"figure.figsize\":(15, 6)},style=\"whitegrid\")"
   ]
  },
  {
   "attachments": {},
   "cell_type": "markdown",
   "metadata": {},
   "source": [
    "# Portfolio"
   ]
  },
  {
   "attachments": {},
   "cell_type": "markdown",
   "metadata": {},
   "source": [
    "Importons les données :"
   ]
  },
  {
   "cell_type": "code",
   "execution_count": 15,
   "metadata": {},
   "outputs": [],
   "source": [
    "# récupérons les données des prix sauvegardés dans le fichier prices.csv\n",
    "datas = pd.read_csv('datas/prices.csv', sep=',')\n",
    "\n",
    "# On récupère les tickers stockés dans le fichier tickers.txt\n",
    "tickers = pf.get_tickers('datas/tickers.txt')"
   ]
  },
  {
   "cell_type": "code",
   "execution_count": 16,
   "metadata": {},
   "outputs": [
    {
     "data": {
      "text/html": [
       "<div>\n",
       "<style scoped>\n",
       "    .dataframe tbody tr th:only-of-type {\n",
       "        vertical-align: middle;\n",
       "    }\n",
       "\n",
       "    .dataframe tbody tr th {\n",
       "        vertical-align: top;\n",
       "    }\n",
       "\n",
       "    .dataframe thead th {\n",
       "        text-align: right;\n",
       "    }\n",
       "</style>\n",
       "<table border=\"1\" class=\"dataframe\">\n",
       "  <thead>\n",
       "    <tr style=\"text-align: right;\">\n",
       "      <th></th>\n",
       "      <th>SBMO.AS</th>\n",
       "      <th>KPN.AS</th>\n",
       "      <th>BAMNB.AS</th>\n",
       "      <th>PNL.AS</th>\n",
       "      <th>PHIA.AS</th>\n",
       "      <th>REN.AS</th>\n",
       "      <th>AGN.AS</th>\n",
       "      <th>INGA.AS</th>\n",
       "      <th>SHELL.AS</th>\n",
       "      <th>AMUND.AS</th>\n",
       "    </tr>\n",
       "    <tr>\n",
       "      <th>Date</th>\n",
       "      <th></th>\n",
       "      <th></th>\n",
       "      <th></th>\n",
       "      <th></th>\n",
       "      <th></th>\n",
       "      <th></th>\n",
       "      <th></th>\n",
       "      <th></th>\n",
       "      <th></th>\n",
       "      <th></th>\n",
       "    </tr>\n",
       "  </thead>\n",
       "  <tbody>\n",
       "    <tr>\n",
       "      <th>2010-01-04</th>\n",
       "      <td>10.353129</td>\n",
       "      <td>3.689740</td>\n",
       "      <td>4.795937</td>\n",
       "      <td>5.041500</td>\n",
       "      <td>13.832665</td>\n",
       "      <td>3.762785</td>\n",
       "      <td>2.645846</td>\n",
       "      <td>4.536896</td>\n",
       "      <td>10.527839</td>\n",
       "      <td>12.383609</td>\n",
       "    </tr>\n",
       "    <tr>\n",
       "      <th>2010-01-05</th>\n",
       "      <td>10.498744</td>\n",
       "      <td>3.702040</td>\n",
       "      <td>4.772008</td>\n",
       "      <td>5.094260</td>\n",
       "      <td>13.803706</td>\n",
       "      <td>3.721653</td>\n",
       "      <td>2.639794</td>\n",
       "      <td>4.624887</td>\n",
       "      <td>10.598575</td>\n",
       "      <td>12.383609</td>\n",
       "    </tr>\n",
       "    <tr>\n",
       "      <th>2010-01-06</th>\n",
       "      <td>10.655277</td>\n",
       "      <td>3.705114</td>\n",
       "      <td>4.731705</td>\n",
       "      <td>5.165778</td>\n",
       "      <td>13.591340</td>\n",
       "      <td>3.700648</td>\n",
       "      <td>2.630441</td>\n",
       "      <td>4.632377</td>\n",
       "      <td>10.522962</td>\n",
       "      <td>12.383609</td>\n",
       "    </tr>\n",
       "    <tr>\n",
       "      <th>2010-01-07</th>\n",
       "      <td>10.604313</td>\n",
       "      <td>3.637470</td>\n",
       "      <td>4.768229</td>\n",
       "      <td>5.155227</td>\n",
       "      <td>13.514114</td>\n",
       "      <td>3.646388</td>\n",
       "      <td>2.683808</td>\n",
       "      <td>4.742836</td>\n",
       "      <td>10.491251</td>\n",
       "      <td>12.383609</td>\n",
       "    </tr>\n",
       "    <tr>\n",
       "      <th>2010-01-08</th>\n",
       "      <td>10.728085</td>\n",
       "      <td>3.642081</td>\n",
       "      <td>4.961554</td>\n",
       "      <td>5.125916</td>\n",
       "      <td>13.533423</td>\n",
       "      <td>3.679208</td>\n",
       "      <td>2.766887</td>\n",
       "      <td>4.848926</td>\n",
       "      <td>10.430267</td>\n",
       "      <td>12.383609</td>\n",
       "    </tr>\n",
       "  </tbody>\n",
       "</table>\n",
       "</div>"
      ],
      "text/plain": [
       "              SBMO.AS    KPN.AS  BAMNB.AS    PNL.AS    PHIA.AS    REN.AS  \\\n",
       "Date                                                                       \n",
       "2010-01-04  10.353129  3.689740  4.795937  5.041500  13.832665  3.762785   \n",
       "2010-01-05  10.498744  3.702040  4.772008  5.094260  13.803706  3.721653   \n",
       "2010-01-06  10.655277  3.705114  4.731705  5.165778  13.591340  3.700648   \n",
       "2010-01-07  10.604313  3.637470  4.768229  5.155227  13.514114  3.646388   \n",
       "2010-01-08  10.728085  3.642081  4.961554  5.125916  13.533423  3.679208   \n",
       "\n",
       "              AGN.AS   INGA.AS   SHELL.AS   AMUND.AS  \n",
       "Date                                                  \n",
       "2010-01-04  2.645846  4.536896  10.527839  12.383609  \n",
       "2010-01-05  2.639794  4.624887  10.598575  12.383609  \n",
       "2010-01-06  2.630441  4.632377  10.522962  12.383609  \n",
       "2010-01-07  2.683808  4.742836  10.491251  12.383609  \n",
       "2010-01-08  2.766887  4.848926  10.430267  12.383609  "
      ]
     },
     "execution_count": 16,
     "metadata": {},
     "output_type": "execute_result"
    }
   ],
   "source": [
    "# Uniquement les prix liées aux tickers\n",
    "prices = datas[[\"Date\"]+tickers]\n",
    "\n",
    "# On transforme la colonne Date en index\n",
    "prices.set_index(\"Date\", inplace=True)\n",
    "prices.index = pd.to_datetime(prices.index)\n",
    "\n",
    "prices.head()"
   ]
  },
  {
   "attachments": {},
   "cell_type": "markdown",
   "metadata": {},
   "source": [
    "Calculons les returns journaliers :"
   ]
  },
  {
   "cell_type": "code",
   "execution_count": 17,
   "metadata": {},
   "outputs": [
    {
     "data": {
      "text/html": [
       "<div>\n",
       "<style scoped>\n",
       "    .dataframe tbody tr th:only-of-type {\n",
       "        vertical-align: middle;\n",
       "    }\n",
       "\n",
       "    .dataframe tbody tr th {\n",
       "        vertical-align: top;\n",
       "    }\n",
       "\n",
       "    .dataframe thead th {\n",
       "        text-align: right;\n",
       "    }\n",
       "</style>\n",
       "<table border=\"1\" class=\"dataframe\">\n",
       "  <thead>\n",
       "    <tr style=\"text-align: right;\">\n",
       "      <th></th>\n",
       "      <th>SBMO.AS</th>\n",
       "      <th>KPN.AS</th>\n",
       "      <th>BAMNB.AS</th>\n",
       "      <th>PNL.AS</th>\n",
       "      <th>PHIA.AS</th>\n",
       "      <th>REN.AS</th>\n",
       "      <th>AGN.AS</th>\n",
       "      <th>INGA.AS</th>\n",
       "      <th>SHELL.AS</th>\n",
       "      <th>AMUND.AS</th>\n",
       "    </tr>\n",
       "    <tr>\n",
       "      <th>Date</th>\n",
       "      <th></th>\n",
       "      <th></th>\n",
       "      <th></th>\n",
       "      <th></th>\n",
       "      <th></th>\n",
       "      <th></th>\n",
       "      <th></th>\n",
       "      <th></th>\n",
       "      <th></th>\n",
       "      <th></th>\n",
       "    </tr>\n",
       "  </thead>\n",
       "  <tbody>\n",
       "    <tr>\n",
       "      <th>2010-01-05</th>\n",
       "      <td>0.014065</td>\n",
       "      <td>0.003334</td>\n",
       "      <td>-0.004989</td>\n",
       "      <td>0.010465</td>\n",
       "      <td>-0.002094</td>\n",
       "      <td>-0.010931</td>\n",
       "      <td>-0.002287</td>\n",
       "      <td>0.019395</td>\n",
       "      <td>0.006719</td>\n",
       "      <td>0.0</td>\n",
       "    </tr>\n",
       "    <tr>\n",
       "      <th>2010-01-06</th>\n",
       "      <td>0.014910</td>\n",
       "      <td>0.000830</td>\n",
       "      <td>-0.008446</td>\n",
       "      <td>0.014039</td>\n",
       "      <td>-0.015385</td>\n",
       "      <td>-0.005644</td>\n",
       "      <td>-0.003543</td>\n",
       "      <td>0.001619</td>\n",
       "      <td>-0.007134</td>\n",
       "      <td>0.0</td>\n",
       "    </tr>\n",
       "    <tr>\n",
       "      <th>2010-01-07</th>\n",
       "      <td>-0.004783</td>\n",
       "      <td>-0.018257</td>\n",
       "      <td>0.007719</td>\n",
       "      <td>-0.002043</td>\n",
       "      <td>-0.005682</td>\n",
       "      <td>-0.014662</td>\n",
       "      <td>0.020288</td>\n",
       "      <td>0.023845</td>\n",
       "      <td>-0.003013</td>\n",
       "      <td>0.0</td>\n",
       "    </tr>\n",
       "    <tr>\n",
       "      <th>2010-01-08</th>\n",
       "      <td>0.011672</td>\n",
       "      <td>0.001268</td>\n",
       "      <td>0.040544</td>\n",
       "      <td>-0.005686</td>\n",
       "      <td>0.001429</td>\n",
       "      <td>0.009001</td>\n",
       "      <td>0.030955</td>\n",
       "      <td>0.022368</td>\n",
       "      <td>-0.005813</td>\n",
       "      <td>0.0</td>\n",
       "    </tr>\n",
       "    <tr>\n",
       "      <th>2010-01-11</th>\n",
       "      <td>0.018324</td>\n",
       "      <td>0.010131</td>\n",
       "      <td>-0.012565</td>\n",
       "      <td>0.008463</td>\n",
       "      <td>0.009510</td>\n",
       "      <td>-0.006898</td>\n",
       "      <td>-0.015510</td>\n",
       "      <td>-0.024839</td>\n",
       "      <td>0.003275</td>\n",
       "      <td>0.0</td>\n",
       "    </tr>\n",
       "  </tbody>\n",
       "</table>\n",
       "</div>"
      ],
      "text/plain": [
       "             SBMO.AS    KPN.AS  BAMNB.AS    PNL.AS   PHIA.AS    REN.AS  \\\n",
       "Date                                                                     \n",
       "2010-01-05  0.014065  0.003334 -0.004989  0.010465 -0.002094 -0.010931   \n",
       "2010-01-06  0.014910  0.000830 -0.008446  0.014039 -0.015385 -0.005644   \n",
       "2010-01-07 -0.004783 -0.018257  0.007719 -0.002043 -0.005682 -0.014662   \n",
       "2010-01-08  0.011672  0.001268  0.040544 -0.005686  0.001429  0.009001   \n",
       "2010-01-11  0.018324  0.010131 -0.012565  0.008463  0.009510 -0.006898   \n",
       "\n",
       "              AGN.AS   INGA.AS  SHELL.AS  AMUND.AS  \n",
       "Date                                                \n",
       "2010-01-05 -0.002287  0.019395  0.006719       0.0  \n",
       "2010-01-06 -0.003543  0.001619 -0.007134       0.0  \n",
       "2010-01-07  0.020288  0.023845 -0.003013       0.0  \n",
       "2010-01-08  0.030955  0.022368 -0.005813       0.0  \n",
       "2010-01-11 -0.015510 -0.024839  0.003275       0.0  "
      ]
     },
     "execution_count": 17,
     "metadata": {},
     "output_type": "execute_result"
    }
   ],
   "source": [
    "returns = pf.daily_asset_return(prices)\n",
    "\n",
    "returns.head()"
   ]
  },
  {
   "attachments": {},
   "cell_type": "markdown",
   "metadata": {},
   "source": [
    "Nous devons définir une période d'entrainement et de test :\n",
    "* la période d'entrainement est entre la première date disponible et le 1er Janvier 2015\n",
    "* la période de test est entre la fin de l'entrainement et la dernière date disponible "
   ]
  },
  {
   "cell_type": "code",
   "execution_count": 18,
   "metadata": {},
   "outputs": [],
   "source": [
    "begin_train = returns.index[0]\n",
    "end_train = \"2017-01-01\"\n",
    "begin_test = end_train\n",
    "end_test = returns.index[-1]"
   ]
  },
  {
   "attachments": {},
   "cell_type": "markdown",
   "metadata": {},
   "source": [
    "Il est nécessaire de séparer les données entre la phase d'entrainement et la phase de test."
   ]
  },
  {
   "cell_type": "code",
   "execution_count": 19,
   "metadata": {},
   "outputs": [],
   "source": [
    "returns_train, returns_test = pf.seperate_df(returns, begin_train, end_train, begin_test, end_test)"
   ]
  },
  {
   "attachments": {},
   "cell_type": "markdown",
   "metadata": {},
   "source": [
    "Nous pouvons déterminer les returns annualisés année grâce à la ligne de code suivante :"
   ]
  },
  {
   "cell_type": "code",
   "execution_count": 20,
   "metadata": {},
   "outputs": [],
   "source": [
    "annu_returns_train = pf.annualy_asset_return(returns_train)"
   ]
  },
  {
   "attachments": {},
   "cell_type": "markdown",
   "metadata": {},
   "source": [
    "## Mean-Variance Portfolio"
   ]
  },
  {
   "attachments": {},
   "cell_type": "markdown",
   "metadata": {},
   "source": [
    "Let's compute the covariance matrix of the returns."
   ]
  },
  {
   "cell_type": "code",
   "execution_count": 21,
   "metadata": {},
   "outputs": [],
   "source": [
    "cov_matrix_train = returns_train.cov()"
   ]
  },
  {
   "cell_type": "code",
   "execution_count": 22,
   "metadata": {},
   "outputs": [
    {
     "name": "stdout",
     "output_type": "stream",
     "text": [
      "The portfolio return is: 11.48 %\n",
      "The portfolio volatility is: 15.83 %\n"
     ]
    }
   ],
   "source": [
    "w1,r,v = pf.gmv_portfolio(returns_train,cov_matrix_train,show=True)"
   ]
  },
  {
   "cell_type": "code",
   "execution_count": 29,
   "metadata": {},
   "outputs": [
    {
     "name": "stdout",
     "output_type": "stream",
     "text": [
      "The portfolio return is: 10.0 %\n",
      "The portfolio volatility is: 5.95 %\n"
     ]
    }
   ],
   "source": [
    "w,r,vol = pf.opt_mean_variance(returns_train,cov_matrix_train,obj_rend=0.1,risk_free=0.02624,show=True)"
   ]
  },
  {
   "cell_type": "code",
   "execution_count": 26,
   "metadata": {},
   "outputs": [
    {
     "name": "stderr",
     "output_type": "stream",
     "text": [
      "/Users/simonevanno/Desktop/centrale marseille/cours/3A/TEMPS2/Gestion Portefeuille/Portfolio-Project/project_functions.py:49: RuntimeWarning: invalid value encountered in double_scalars\n",
      "  return (df+1).prod()**(business_days/df.shape[0])-1\n"
     ]
    },
    {
     "data": {
      "image/png": "[encoded data removed]",
      "text/plain": [
       "<Figure size 1080x432 with 1 Axes>"
      ]
     },
     "metadata": {},
     "output_type": "display_data"
    }
   ],
   "source": [
    "# plot the efficient frontier\n",
    "eff, eff_rf = pf.efficient_frontier(returns_train,cov_matrix_train,min=0.02,max=0.7,number=20,risk_free=0.02624,plot=True)"
   ]
  },
  {
   "attachments": {},
   "cell_type": "markdown",
   "metadata": {},
   "source": [
    "Calculons le return du portfolio avec les poids souhaités sur la période de test :"
   ]
  },
  {
   "cell_type": "code",
   "execution_count": 30,
   "metadata": {},
   "outputs": [
    {
     "name": "stdout",
     "output_type": "stream",
     "text": [
      "The portfolio return is: 5.69 %\n"
     ]
    }
   ],
   "source": [
    "prf = w[\"Risk Free\"]\n",
    "del w[\"Risk Free\"]\n",
    "rendements = pd.Series((returns_test*w).sum(axis=1),name=\"Portfolio\")\n",
    "rendement = pf.annualy_asset_return(rendements)\n",
    "rendement += prf*0.02624\n",
    "print(\"The portfolio return is:\",round(rendement*100,2),\"%\")"
   ]
  },
  {
   "cell_type": "code",
   "execution_count": null,
   "metadata": {},
   "outputs": [],
   "source": []
  }
 ],
 "metadata": {
  "kernelspec": {
   "display_name": "base",
   "language": "python",
   "name": "python3"
  },
  "language_info": {
   "codemirror_mode": {
    "name": "ipython",
    "version": 3
   },
   "file_extension": ".py",
   "mimetype": "text/x-python",
   "name": "python",
   "nbconvert_exporter": "python",
   "pygments_lexer": "ipython3",
   "version": "3.8.8"
  },
  "orig_nbformat": 4,
  "vscode": {
   "interpreter": {
    "hash": "04c4a0fbbf9072cd1f31dc31c4706508385dca986472c1d0d89a175610d17b20"
   }
  }
 },
 "nbformat": 4,
 "nbformat_minor": 2
}

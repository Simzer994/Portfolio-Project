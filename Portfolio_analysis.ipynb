{
 "cells": [
  {
   "attachments": {},
   "cell_type": "markdown",
   "metadata": {},
   "source": [
    "# Librairies"
   ]
  },
  {
   "cell_type": "code",
   "execution_count": 1,
   "metadata": {},
   "outputs": [],
   "source": [
    "import project_functions as pf\n",
    "import pandas as pd"
   ]
  },
  {
   "attachments": {},
   "cell_type": "markdown",
   "metadata": {},
   "source": [
    "# Portfolio Analysis\n"
   ]
  },
  {
   "attachments": {},
   "cell_type": "markdown",
   "metadata": {},
   "source": [
    "Importons les données :"
   ]
  },
  {
   "cell_type": "code",
   "execution_count": 2,
   "metadata": {},
   "outputs": [],
   "source": [
    "# récupérons les données des prix sauvegardés dans le fichier prices.csv\n",
    "prices = pd.read_csv('datas/prices.csv', sep=',')\n",
    "prices = prices.set_index('Date')"
   ]
  },
  {
   "attachments": {},
   "cell_type": "markdown",
   "metadata": {},
   "source": [
    "## Analyse des returns"
   ]
  },
  {
   "attachments": {},
   "cell_type": "markdown",
   "metadata": {},
   "source": [
    "Nous ne prenons uniquement les assets avec des returns anualisés positifs."
   ]
  },
  {
   "cell_type": "code",
   "execution_count": 3,
   "metadata": {},
   "outputs": [],
   "source": [
    "# Calculons les rendements journaliers\n",
    "daily_returns = pf.daily_asset_return(prices)\n",
    "\n",
    "# Calculons les rendements annuels\n",
    "annualy_returns = pf.annualy_asset_return(daily_returns)\n",
    "\n",
    "# On ne concerne uniquement les index avec rendements annuels positifs\n",
    "positive_returns = annualy_returns[annualy_returns > 0]\n",
    "\n",
    "# On récupère les tickers des index avec rendements positifs\n",
    "tickers = positive_returns.index.to_list()"
   ]
  },
  {
   "attachments": {},
   "cell_type": "markdown",
   "metadata": {},
   "source": [
    "Actualisons le dataframe prices avec uniquement les tickers avec un rendement positif"
   ]
  },
  {
   "cell_type": "code",
   "execution_count": 4,
   "metadata": {},
   "outputs": [],
   "source": [
    "prices = prices[tickers]"
   ]
  },
  {
   "attachments": {},
   "cell_type": "markdown",
   "metadata": {},
   "source": [
    "## Critères ESG"
   ]
  },
  {
   "attachments": {},
   "cell_type": "markdown",
   "metadata": {},
   "source": [
    "Nous allons créer notre portefeuille d'actions en se basant sur les critères ESG. Comme vu en cours cela s'appelle un ESG filter :\n",
    "* exclude x% of firms with the worts ESG score\n",
    "* keep firms with the best ESG momentum\n",
    "* take a specific KPI"
   ]
  },
  {
   "cell_type": "code",
   "execution_count": null,
   "metadata": {},
   "outputs": [],
   "source": []
  },
  {
   "attachments": {},
   "cell_type": "markdown",
   "metadata": {},
   "source": [
    "## Analyse des Volatilités"
   ]
  },
  {
   "attachments": {},
   "cell_type": "markdown",
   "metadata": {},
   "source": [
    "Nous calculons la volatilites des actions avec la fonction asset_vol."
   ]
  },
  {
   "cell_type": "code",
   "execution_count": 5,
   "metadata": {},
   "outputs": [
    {
     "data": {
      "text/plain": [
       "ASML.AS     2881.585328\n",
       "ASM.AS      1511.832169\n",
       "GLPG.AS      799.040403\n",
       "HOLCO.AS     730.578229\n",
       "DSM.AS       710.757258\n",
       "HAL.AS       524.112975\n",
       "WKL.AS       445.673250\n",
       "HEIA.AS      364.857634\n",
       "HYDRA.AS     358.546970\n",
       "AKZA.AS      343.236776\n",
       "BESI.AS      333.216240\n",
       "HEIO.AS      330.274225\n",
       "NEDAP.AS     240.468437\n",
       "TWEKA.AS     208.263251\n",
       "AALB.AS      189.898765\n",
       "RAND.AS      186.146327\n",
       "AMG.AS       181.959332\n",
       "CRBN.AS      156.809416\n",
       "ARCAD.AS     138.583458\n",
       "REN.AS       114.713417\n",
       "AD.AS        107.982181\n",
       "KENDR.AS     104.703251\n",
       "VPK.AS        99.915111\n",
       "BRILL.AS      97.163977\n",
       "SLIGR.AS      95.395512\n",
       "ACOMO.AS      91.739262\n",
       "SHELL.AS      67.304495\n",
       "VLK.AS        67.076211\n",
       "AJAX.AS       62.672310\n",
       "BGHL.AS       62.296180\n",
       "SNOW.AS       54.752081\n",
       "VASTN.AS      52.496398\n",
       "BRNL.AS       44.420426\n",
       "HEIJM.AS      41.899145\n",
       "INGA.AS       37.973304\n",
       "TOM2.AS       33.287206\n",
       "SBMO.AS       32.508720\n",
       "VTA.AS        23.193275\n",
       "PORF.AS       21.044427\n",
       "VALUE.AS      18.694897\n",
       "IEX.AS        17.617157\n",
       "CTAC.AS       16.252868\n",
       "EAS2P.AS      14.934748\n",
       "AGN.AS        12.640179\n",
       "ROOD.AS        0.748127\n",
       "dtype: float64"
      ]
     },
     "execution_count": 5,
     "metadata": {},
     "output_type": "execute_result"
    }
   ],
   "source": [
    "# Calculons la volatilité annuelle de chaque actif et trions les valeurs par ordre décroissant\n",
    "total_vol = pf.asset_vol(prices).sort_values(ascending=False)\n",
    "total_vol"
   ]
  },
  {
   "attachments": {},
   "cell_type": "markdown",
   "metadata": {},
   "source": [
    "## Enregistrement des tickers"
   ]
  },
  {
   "attachments": {},
   "cell_type": "markdown",
   "metadata": {},
   "source": [
    "Nous devons enregistrer les tickers sélectionnés dans le fichier tickers.txt"
   ]
  },
  {
   "cell_type": "code",
   "execution_count": 6,
   "metadata": {},
   "outputs": [],
   "source": [
    "pf.tickers_storage(tickers, 'datas/tickers.txt')"
   ]
  },
  {
   "cell_type": "code",
   "execution_count": null,
   "metadata": {},
   "outputs": [],
   "source": []
  }
 ],
 "metadata": {
  "kernelspec": {
   "display_name": "base",
   "language": "python",
   "name": "python3"
  },
  "language_info": {
   "codemirror_mode": {
    "name": "ipython",
    "version": 3
   },
   "file_extension": ".py",
   "mimetype": "text/x-python",
   "name": "python",
   "nbconvert_exporter": "python",
   "pygments_lexer": "ipython3",
   "version": "3.8.8"
  },
  "orig_nbformat": 4,
  "vscode": {
   "interpreter": {
    "hash": "04c4a0fbbf9072cd1f31dc31c4706508385dca986472c1d0d89a175610d17b20"
   }
  }
 },
 "nbformat": 4,
 "nbformat_minor": 2
}

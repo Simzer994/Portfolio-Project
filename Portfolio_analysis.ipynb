{
 "cells": [
  {
   "attachments": {},
   "cell_type": "markdown",
   "metadata": {},
   "source": [
    "# Librairies"
   ]
  },
  {
   "cell_type": "code",
   "execution_count": 1,
   "metadata": {},
   "outputs": [],
   "source": [
    "import project_functions as pf\n",
    "import pandas as pd"
   ]
  },
  {
   "attachments": {},
   "cell_type": "markdown",
   "metadata": {},
   "source": [
    "# Portfolio Analysis\n"
   ]
  },
  {
   "attachments": {},
   "cell_type": "markdown",
   "metadata": {},
   "source": [
    "Importons les données :"
   ]
  },
  {
   "cell_type": "code",
   "execution_count": 2,
   "metadata": {},
   "outputs": [],
   "source": [
    "# récupérons les données des prix sauvegardés dans le fichier prices.csv\n",
    "prices = pd.read_csv('datas/prices.csv', sep=',')\n",
    "prices = prices.set_index('Date')"
   ]
  },
  {
   "attachments": {},
   "cell_type": "markdown",
   "metadata": {},
   "source": [
    "## Analyse des returns"
   ]
  },
  {
   "attachments": {},
   "cell_type": "markdown",
   "metadata": {},
   "source": [
    "Nous ne prenons uniquement les assets avec des returns anualisés positifs."
   ]
  },
  {
   "cell_type": "code",
   "execution_count": 3,
   "metadata": {},
   "outputs": [],
   "source": [
    "# Calculons les rendements journaliers\n",
    "daily_returns = pf.daily_asset_return(prices)\n",
    "\n",
    "# Calculons les rendements annuels\n",
    "annualy_returns = pf.annualy_asset_return(daily_returns)\n",
    "\n",
    "# On ne concerne uniquement les index avec rendements annuels positifs\n",
    "positive_returns = annualy_returns[annualy_returns > 0]\n",
    "\n",
    "# On récupère les tickers des index avec rendements positifs\n",
    "tickers = positive_returns.index.to_list()"
   ]
  },
  {
   "attachments": {},
   "cell_type": "markdown",
   "metadata": {},
   "source": [
    "Actualisons le dataframe prices avec uniquement les tickers avec un rendement positif"
   ]
  },
  {
   "cell_type": "code",
   "execution_count": 4,
   "metadata": {},
   "outputs": [],
   "source": [
    "prices = prices[tickers]"
   ]
  },
  {
   "attachments": {},
   "cell_type": "markdown",
   "metadata": {},
   "source": [
    "## Critères ESG"
   ]
  },
  {
   "attachments": {},
   "cell_type": "markdown",
   "metadata": {},
   "source": [
    "Nous allons créer notre portefeuille d'actions en se basant sur les critères ESG. Comme vu en cours cela s'appelle un ESG filter :\n",
    "* exclude x% of firms with the worts ESG score\n",
    "* keep firms with the best ESG momentum\n",
    "* take a specific KPI"
   ]
  },
  {
   "cell_type": "code",
   "execution_count": 13,
   "metadata": {},
   "outputs": [],
   "source": [
    "# récupérons les données liées aux critères ESG sauvegardés dans le fichier esg_scores.csv\n",
    "esg = pd.read_csv('datas/esg_scores.csv', sep=',')\n",
    "\n",
    "# On ne conserve que les tickers avec des scores ESG différents de NaN\n",
    "esg = esg.dropna()"
   ]
  },
  {
   "cell_type": "code",
   "execution_count": 14,
   "metadata": {},
   "outputs": [
    {
     "data": {
      "text/html": [
       "<div>\n",
       "<style scoped>\n",
       "    .dataframe tbody tr th:only-of-type {\n",
       "        vertical-align: middle;\n",
       "    }\n",
       "\n",
       "    .dataframe tbody tr th {\n",
       "        vertical-align: top;\n",
       "    }\n",
       "\n",
       "    .dataframe thead th {\n",
       "        text-align: right;\n",
       "    }\n",
       "</style>\n",
       "<table border=\"1\" class=\"dataframe\">\n",
       "  <thead>\n",
       "    <tr style=\"text-align: right;\">\n",
       "      <th></th>\n",
       "      <th>A</th>\n",
       "      <th>Ticker Yahoo</th>\n",
       "      <th>Environment Score</th>\n",
       "      <th>Social Score</th>\n",
       "      <th>Governance Score</th>\n",
       "      <th>Total Score</th>\n",
       "    </tr>\n",
       "  </thead>\n",
       "  <tbody>\n",
       "    <tr>\n",
       "      <th>64</th>\n",
       "      <td>64</td>\n",
       "      <td>WHA.AS</td>\n",
       "      <td>85.0</td>\n",
       "      <td>67.0</td>\n",
       "      <td>51.0</td>\n",
       "      <td>69.0</td>\n",
       "    </tr>\n",
       "    <tr>\n",
       "      <th>34</th>\n",
       "      <td>34</td>\n",
       "      <td>INGA.AS</td>\n",
       "      <td>86.0</td>\n",
       "      <td>68.0</td>\n",
       "      <td>89.0</td>\n",
       "      <td>78.0</td>\n",
       "    </tr>\n",
       "    <tr>\n",
       "      <th>58</th>\n",
       "      <td>58</td>\n",
       "      <td>URW.AS</td>\n",
       "      <td>88.0</td>\n",
       "      <td>95.0</td>\n",
       "      <td>88.0</td>\n",
       "      <td>90.0</td>\n",
       "    </tr>\n",
       "    <tr>\n",
       "      <th>22</th>\n",
       "      <td>22</td>\n",
       "      <td>DSM.AS</td>\n",
       "      <td>89.0</td>\n",
       "      <td>79.0</td>\n",
       "      <td>86.0</td>\n",
       "      <td>84.0</td>\n",
       "    </tr>\n",
       "    <tr>\n",
       "      <th>52</th>\n",
       "      <td>52</td>\n",
       "      <td>SHELL.AS</td>\n",
       "      <td>92.0</td>\n",
       "      <td>93.0</td>\n",
       "      <td>95.0</td>\n",
       "      <td>93.0</td>\n",
       "    </tr>\n",
       "    <tr>\n",
       "      <th>8</th>\n",
       "      <td>8</td>\n",
       "      <td>AMUND.AS</td>\n",
       "      <td>93.0</td>\n",
       "      <td>78.0</td>\n",
       "      <td>42.0</td>\n",
       "      <td>63.0</td>\n",
       "    </tr>\n",
       "  </tbody>\n",
       "</table>\n",
       "</div>"
      ],
      "text/plain": [
       "     A Ticker Yahoo  Environment Score  Social Score  Governance Score  \\\n",
       "64  64       WHA.AS               85.0          67.0              51.0   \n",
       "34  34      INGA.AS               86.0          68.0              89.0   \n",
       "58  58       URW.AS               88.0          95.0              88.0   \n",
       "22  22       DSM.AS               89.0          79.0              86.0   \n",
       "52  52     SHELL.AS               92.0          93.0              95.0   \n",
       "8    8     AMUND.AS               93.0          78.0              42.0   \n",
       "\n",
       "    Total Score  \n",
       "64         69.0  \n",
       "34         78.0  \n",
       "58         90.0  \n",
       "22         84.0  \n",
       "52         93.0  \n",
       "8          63.0  "
      ]
     },
     "execution_count": 14,
     "metadata": {},
     "output_type": "execute_result"
    }
   ],
   "source": [
    "# On conserve les tickers avec un score environnemental supérieur à la médiane\n",
    "esg = esg.sort_values(by=['Environment Score'])\n",
    "tickers_env = esg.iloc[n//2:]\n",
    "tickers_env"
   ]
  },
  {
   "cell_type": "code",
   "execution_count": 15,
   "metadata": {},
   "outputs": [
    {
     "data": {
      "text/html": [
       "<div>\n",
       "<style scoped>\n",
       "    .dataframe tbody tr th:only-of-type {\n",
       "        vertical-align: middle;\n",
       "    }\n",
       "\n",
       "    .dataframe tbody tr th {\n",
       "        vertical-align: top;\n",
       "    }\n",
       "\n",
       "    .dataframe thead th {\n",
       "        text-align: right;\n",
       "    }\n",
       "</style>\n",
       "<table border=\"1\" class=\"dataframe\">\n",
       "  <thead>\n",
       "    <tr style=\"text-align: right;\">\n",
       "      <th></th>\n",
       "      <th>A</th>\n",
       "      <th>Ticker Yahoo</th>\n",
       "      <th>Environment Score</th>\n",
       "      <th>Social Score</th>\n",
       "      <th>Governance Score</th>\n",
       "      <th>Total Score</th>\n",
       "    </tr>\n",
       "  </thead>\n",
       "  <tbody>\n",
       "    <tr>\n",
       "      <th>9</th>\n",
       "      <td>9</td>\n",
       "      <td>ARCAD.AS</td>\n",
       "      <td>78.0</td>\n",
       "      <td>90.0</td>\n",
       "      <td>73.0</td>\n",
       "      <td>81.0</td>\n",
       "    </tr>\n",
       "    <tr>\n",
       "      <th>24</th>\n",
       "      <td>24</td>\n",
       "      <td>FUR.AS</td>\n",
       "      <td>57.0</td>\n",
       "      <td>90.0</td>\n",
       "      <td>84.0</td>\n",
       "      <td>77.0</td>\n",
       "    </tr>\n",
       "    <tr>\n",
       "      <th>38</th>\n",
       "      <td>38</td>\n",
       "      <td>MT.AS</td>\n",
       "      <td>81.0</td>\n",
       "      <td>91.0</td>\n",
       "      <td>75.0</td>\n",
       "      <td>83.0</td>\n",
       "    </tr>\n",
       "    <tr>\n",
       "      <th>52</th>\n",
       "      <td>52</td>\n",
       "      <td>SHELL.AS</td>\n",
       "      <td>92.0</td>\n",
       "      <td>93.0</td>\n",
       "      <td>95.0</td>\n",
       "      <td>93.0</td>\n",
       "    </tr>\n",
       "    <tr>\n",
       "      <th>45</th>\n",
       "      <td>45</td>\n",
       "      <td>PHIA.AS</td>\n",
       "      <td>81.0</td>\n",
       "      <td>94.0</td>\n",
       "      <td>84.0</td>\n",
       "      <td>88.0</td>\n",
       "    </tr>\n",
       "    <tr>\n",
       "      <th>58</th>\n",
       "      <td>58</td>\n",
       "      <td>URW.AS</td>\n",
       "      <td>88.0</td>\n",
       "      <td>95.0</td>\n",
       "      <td>88.0</td>\n",
       "      <td>90.0</td>\n",
       "    </tr>\n",
       "  </tbody>\n",
       "</table>\n",
       "</div>"
      ],
      "text/plain": [
       "     A Ticker Yahoo  Environment Score  Social Score  Governance Score  \\\n",
       "9    9     ARCAD.AS               78.0          90.0              73.0   \n",
       "24  24       FUR.AS               57.0          90.0              84.0   \n",
       "38  38        MT.AS               81.0          91.0              75.0   \n",
       "52  52     SHELL.AS               92.0          93.0              95.0   \n",
       "45  45      PHIA.AS               81.0          94.0              84.0   \n",
       "58  58       URW.AS               88.0          95.0              88.0   \n",
       "\n",
       "    Total Score  \n",
       "9          81.0  \n",
       "24         77.0  \n",
       "38         83.0  \n",
       "52         93.0  \n",
       "45         88.0  \n",
       "58         90.0  "
      ]
     },
     "execution_count": 15,
     "metadata": {},
     "output_type": "execute_result"
    }
   ],
   "source": [
    "# On conserve les tickers avec un score social supérieur à la médiane\n",
    "esg = esg.sort_values(by=['Social Score'])\n",
    "tickers_soc = esg.iloc[n//2:]\n",
    "tickers_soc"
   ]
  },
  {
   "cell_type": "code",
   "execution_count": 20,
   "metadata": {},
   "outputs": [
    {
     "data": {
      "text/html": [
       "<div>\n",
       "<style scoped>\n",
       "    .dataframe tbody tr th:only-of-type {\n",
       "        vertical-align: middle;\n",
       "    }\n",
       "\n",
       "    .dataframe tbody tr th {\n",
       "        vertical-align: top;\n",
       "    }\n",
       "\n",
       "    .dataframe thead th {\n",
       "        text-align: right;\n",
       "    }\n",
       "</style>\n",
       "<table border=\"1\" class=\"dataframe\">\n",
       "  <thead>\n",
       "    <tr style=\"text-align: right;\">\n",
       "      <th></th>\n",
       "      <th>A</th>\n",
       "      <th>Ticker Yahoo</th>\n",
       "      <th>Environment Score</th>\n",
       "      <th>Social Score</th>\n",
       "      <th>Governance Score</th>\n",
       "      <th>Total Score</th>\n",
       "    </tr>\n",
       "  </thead>\n",
       "  <tbody>\n",
       "    <tr>\n",
       "      <th>64</th>\n",
       "      <td>64</td>\n",
       "      <td>WHA.AS</td>\n",
       "      <td>85.0</td>\n",
       "      <td>67.0</td>\n",
       "      <td>51.0</td>\n",
       "      <td>69.0</td>\n",
       "    </tr>\n",
       "    <tr>\n",
       "      <th>34</th>\n",
       "      <td>34</td>\n",
       "      <td>INGA.AS</td>\n",
       "      <td>86.0</td>\n",
       "      <td>68.0</td>\n",
       "      <td>89.0</td>\n",
       "      <td>78.0</td>\n",
       "    </tr>\n",
       "    <tr>\n",
       "      <th>58</th>\n",
       "      <td>58</td>\n",
       "      <td>URW.AS</td>\n",
       "      <td>88.0</td>\n",
       "      <td>95.0</td>\n",
       "      <td>88.0</td>\n",
       "      <td>90.0</td>\n",
       "    </tr>\n",
       "    <tr>\n",
       "      <th>22</th>\n",
       "      <td>22</td>\n",
       "      <td>DSM.AS</td>\n",
       "      <td>89.0</td>\n",
       "      <td>79.0</td>\n",
       "      <td>86.0</td>\n",
       "      <td>84.0</td>\n",
       "    </tr>\n",
       "    <tr>\n",
       "      <th>52</th>\n",
       "      <td>52</td>\n",
       "      <td>SHELL.AS</td>\n",
       "      <td>92.0</td>\n",
       "      <td>93.0</td>\n",
       "      <td>95.0</td>\n",
       "      <td>93.0</td>\n",
       "    </tr>\n",
       "    <tr>\n",
       "      <th>8</th>\n",
       "      <td>8</td>\n",
       "      <td>AMUND.AS</td>\n",
       "      <td>93.0</td>\n",
       "      <td>78.0</td>\n",
       "      <td>42.0</td>\n",
       "      <td>63.0</td>\n",
       "    </tr>\n",
       "    <tr>\n",
       "      <th>9</th>\n",
       "      <td>9</td>\n",
       "      <td>ARCAD.AS</td>\n",
       "      <td>78.0</td>\n",
       "      <td>90.0</td>\n",
       "      <td>73.0</td>\n",
       "      <td>81.0</td>\n",
       "    </tr>\n",
       "    <tr>\n",
       "      <th>24</th>\n",
       "      <td>24</td>\n",
       "      <td>FUR.AS</td>\n",
       "      <td>57.0</td>\n",
       "      <td>90.0</td>\n",
       "      <td>84.0</td>\n",
       "      <td>77.0</td>\n",
       "    </tr>\n",
       "    <tr>\n",
       "      <th>38</th>\n",
       "      <td>38</td>\n",
       "      <td>MT.AS</td>\n",
       "      <td>81.0</td>\n",
       "      <td>91.0</td>\n",
       "      <td>75.0</td>\n",
       "      <td>83.0</td>\n",
       "    </tr>\n",
       "    <tr>\n",
       "      <th>45</th>\n",
       "      <td>45</td>\n",
       "      <td>PHIA.AS</td>\n",
       "      <td>81.0</td>\n",
       "      <td>94.0</td>\n",
       "      <td>84.0</td>\n",
       "      <td>88.0</td>\n",
       "    </tr>\n",
       "  </tbody>\n",
       "</table>\n",
       "</div>"
      ],
      "text/plain": [
       "     A Ticker Yahoo  Environment Score  Social Score  Governance Score  \\\n",
       "64  64       WHA.AS               85.0          67.0              51.0   \n",
       "34  34      INGA.AS               86.0          68.0              89.0   \n",
       "58  58       URW.AS               88.0          95.0              88.0   \n",
       "22  22       DSM.AS               89.0          79.0              86.0   \n",
       "52  52     SHELL.AS               92.0          93.0              95.0   \n",
       "8    8     AMUND.AS               93.0          78.0              42.0   \n",
       "9    9     ARCAD.AS               78.0          90.0              73.0   \n",
       "24  24       FUR.AS               57.0          90.0              84.0   \n",
       "38  38        MT.AS               81.0          91.0              75.0   \n",
       "45  45      PHIA.AS               81.0          94.0              84.0   \n",
       "\n",
       "    Total Score  \n",
       "64         69.0  \n",
       "34         78.0  \n",
       "58         90.0  \n",
       "22         84.0  \n",
       "52         93.0  \n",
       "8          63.0  \n",
       "9          81.0  \n",
       "24         77.0  \n",
       "38         83.0  \n",
       "45         88.0  "
      ]
     },
     "execution_count": 20,
     "metadata": {},
     "output_type": "execute_result"
    }
   ],
   "source": [
    "# Concaténation des dataframes en supprimant les doublons\n",
    "tickers_esg = pd.concat([tickers_env, tickers_soc]).drop_duplicates()\n",
    "tickers_esg"
   ]
  },
  {
   "cell_type": "code",
   "execution_count": 24,
   "metadata": {},
   "outputs": [
    {
     "name": "stdout",
     "output_type": "stream",
     "text": [
      "Nombre de tickers ESG sélectionnés : 10\n"
     ]
    }
   ],
   "source": [
    "# Récupérons la liste des tickers\n",
    "list_esg = tickers_esg['Ticker Yahoo'].to_list()\n",
    "print(f'Nombre de tickers ESG sélectionnés : {len(list_esg)}')"
   ]
  },
  {
   "attachments": {},
   "cell_type": "markdown",
   "metadata": {},
   "source": [
    "## Analyse des Volatilités"
   ]
  },
  {
   "attachments": {},
   "cell_type": "markdown",
   "metadata": {},
   "source": [
    "Nous calculons la volatilites des actions avec la fonction asset_vol."
   ]
  },
  {
   "cell_type": "code",
   "execution_count": 25,
   "metadata": {},
   "outputs": [
    {
     "data": {
      "text/plain": [
       "ROOD.AS      0.748127\n",
       "AGN.AS      12.640179\n",
       "EAS2P.AS    14.934748\n",
       "CTAC.AS     16.252868\n",
       "IEX.AS      17.617157\n",
       "dtype: float64"
      ]
     },
     "execution_count": 25,
     "metadata": {},
     "output_type": "execute_result"
    }
   ],
   "source": [
    "# Calculons la volatilité annuelle de chaque actif et trions les valeurs par ordre décroissant\n",
    "total_vol = pf.asset_vol(prices).sort_values(ascending=True)\n",
    "total_vol.head()"
   ]
  },
  {
   "attachments": {},
   "cell_type": "markdown",
   "metadata": {},
   "source": [
    "Récupérons les 10 tickers avec la plus faibles volatilité. Et supprimons les doublons s'il y en a avec ceux déjà sélectionnés selon les critères ESG."
   ]
  },
  {
   "cell_type": "code",
   "execution_count": 29,
   "metadata": {},
   "outputs": [],
   "source": [
    "list_vol = total_vol.index.to_list()[:10]"
   ]
  },
  {
   "attachments": {},
   "cell_type": "markdown",
   "metadata": {},
   "source": [
    "## Concaténons les deux listes"
   ]
  },
  {
   "cell_type": "code",
   "execution_count": 34,
   "metadata": {},
   "outputs": [],
   "source": [
    "tickers = list_esg + list_vol\n",
    "\n",
    "# Supprimons les doublons\n",
    "tickers = list(dict.fromkeys(tickers))"
   ]
  },
  {
   "attachments": {},
   "cell_type": "markdown",
   "metadata": {},
   "source": [
    "## Enregistrement des tickers"
   ]
  },
  {
   "attachments": {},
   "cell_type": "markdown",
   "metadata": {},
   "source": [
    "Nous devons enregistrer les tickers sélectionnés dans le fichier tickers.txt"
   ]
  },
  {
   "cell_type": "code",
   "execution_count": 35,
   "metadata": {},
   "outputs": [],
   "source": [
    "pf.tickers_storage(tickers, 'datas/tickers.txt')"
   ]
  }
 ],
 "metadata": {
  "kernelspec": {
   "display_name": "base",
   "language": "python",
   "name": "python3"
  },
  "language_info": {
   "codemirror_mode": {
    "name": "ipython",
    "version": 3
   },
   "file_extension": ".py",
   "mimetype": "text/x-python",
   "name": "python",
   "nbconvert_exporter": "python",
   "pygments_lexer": "ipython3",
   "version": "3.8.8"
  },
  "orig_nbformat": 4,
  "vscode": {
   "interpreter": {
    "hash": "04c4a0fbbf9072cd1f31dc31c4706508385dca986472c1d0d89a175610d17b20"
   }
  }
 },
 "nbformat": 4,
 "nbformat_minor": 2
}
